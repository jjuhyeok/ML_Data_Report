{
  "nbformat": 4,
  "nbformat_minor": 0,
  "metadata": {
    "colab": {
      "provenance": [],
      "collapsed_sections": [],
      "toc_visible": true
    },
    "kernelspec": {
      "name": "python3",
      "display_name": "Python 3"
    },
    "language_info": {
      "name": "python"
    }
  },
  "cells": [
    {
      "cell_type": "code",
      "execution_count": 1,
      "metadata": {
        "id": "M3HDSir5E99G"
      },
      "outputs": [],
      "source": [
        "import pandas as pd"
      ]
    },
    {
      "cell_type": "markdown",
      "source": [
        "# Train CSV merge"
      ],
      "metadata": {
        "id": "BVdsI6PST84F"
      }
    },
    {
      "cell_type": "code",
      "source": [
        "grow = pd.read_csv('/content/4-2-2-2-4-1113-1000000.csv')\n",
        "feed = pd.read_csv('/content/4-2-2-1-3-1113-1000000.csv')\n",
        "feed = feed.groupby('Tank NO').mean()\n",
        "merge = pd.merge(grow, feed, how = 'left', on = 'Tank NO')\n",
        "grow = pd.read_csv('/content/4-2-2-2-4-1114-1000000.csv')\n",
        "feed = pd.read_csv('/content/4-2-2-1-3-1114-1000000.csv')\n",
        "feed = feed.groupby('Tank NO').mean()\n",
        "merge1 = pd.merge(grow, feed, how = 'left', on = 'Tank NO')\n",
        "Final = pd.concat([merge,merge1], axis = 0)"
      ],
      "metadata": {
        "id": "yzGCbPpZFDys"
      },
      "execution_count": null,
      "outputs": []
    },
    {
      "cell_type": "code",
      "source": [
        "array11 = [i for i in range(15,31)]\n",
        "array11 = list(map(str, array11))\n",
        "\n",
        "#11월달 csv들 read 해서 merge 후 이전 merge csv와 concat\n",
        "for i in (array11):\n",
        "  if(i == '27' or i == '28'):\n",
        "    continue\n",
        "  else:\n",
        "    grow = pd.read_csv('/content/4-2-2-2-4-11' + i + '-1000000.csv')\n",
        "    feed = pd.read_csv('/content/4-2-2-1-3-11' + i + '-1000000.csv')\n",
        "    feed = feed.groupby('Tank NO').mean()\n",
        "    merge = pd.merge(grow, feed, how = 'left', on = 'Tank NO')\n",
        "    Final = pd.concat([Final,merge], axis = 0)\n",
        "\n",
        "\n",
        "\n",
        "array12 = [i for i in range(1,14)]\n",
        "array12 = list(map(str, array12))\n",
        "\n",
        "#12월달 csv들 read 해서 merge 후 이전 merge csv와 concat\n",
        "for i in (array12):\n",
        "  i = i.zfill(2)\n",
        "  grow = pd.read_csv('/content/4-2-2-2-4-12' + i + '-1000000.csv')\n",
        "  feed = pd.read_csv('/content/4-2-2-1-3-12' + i + '-1000000.csv')\n",
        "  feed = feed.groupby('Tank NO').mean()\n",
        "  merge = pd.merge(grow, feed, how = 'left', on = 'Tank NO')\n",
        "  Final = pd.concat([Final,merge], axis = 0)"
      ],
      "metadata": {
        "id": "MlR1qXZn3tl8"
      },
      "execution_count": null,
      "outputs": []
    },
    {
      "cell_type": "code",
      "source": [
        "Final"
      ],
      "metadata": {
        "colab": {
          "base_uri": "https://localhost:8080/",
          "height": 424
        },
        "id": "Jj8DCqjE7hAX",
        "outputId": "3cd835b9-1b8a-45e9-ea19-9cd5877a1dd0"
      },
      "execution_count": null,
      "outputs": [
        {
          "output_type": "execute_result",
          "data": {
            "text/plain": [
              "                      ID CODE  Tank NO  Length(um)  Height(um)  Weight(ug)  \\\n",
              "0      2-2-2-2-4-1113-1040011        5        75.1       0.608       0.810   \n",
              "1      2-2-2-2-4-1113-1040013        5        76.6       0.629       0.825   \n",
              "2      2-2-2-2-4-1113-1040013        5        81.3       0.715       0.872   \n",
              "3      2-2-2-2-4-1113-1040013        5        82.8       0.738       0.888   \n",
              "4      2-2-2-2-4-1113-1040013        5        84.0       0.769       0.901   \n",
              "...                       ...      ...         ...         ...         ...   \n",
              "18447  2-2-2-2-4-1213-1094054       17       117.5       1.541       1.343   \n",
              "18448  2-2-2-2-4-1213-1094054       17       122.4       1.676       1.422   \n",
              "18449  2-2-2-2-4-1213-1094054       17       123.0       1.699       1.434   \n",
              "18450  2-2-2-2-4-1213-1094054       17       127.6       1.825       1.511   \n",
              "18451  2-2-2-2-4-1213-1094054       17       132.1       1.970       1.598   \n",
              "\n",
              "       Plakton  Feed(L)  \n",
              "0          2.0     80.0  \n",
              "1          2.0     80.0  \n",
              "2          2.0     80.0  \n",
              "3          2.0     80.0  \n",
              "4          2.0     80.0  \n",
              "...        ...      ...  \n",
              "18447      2.0     70.0  \n",
              "18448      2.0     70.0  \n",
              "18449      2.0     70.0  \n",
              "18450      2.0     70.0  \n",
              "18451      2.0     70.0  \n",
              "\n",
              "[420549 rows x 7 columns]"
            ],
            "text/html": [
              "\n",
              "  <div id=\"df-25d63f5d-00d3-44c7-a54c-820df02234ca\">\n",
              "    <div class=\"colab-df-container\">\n",
              "      <div>\n",
              "<style scoped>\n",
              "    .dataframe tbody tr th:only-of-type {\n",
              "        vertical-align: middle;\n",
              "    }\n",
              "\n",
              "    .dataframe tbody tr th {\n",
              "        vertical-align: top;\n",
              "    }\n",
              "\n",
              "    .dataframe thead th {\n",
              "        text-align: right;\n",
              "    }\n",
              "</style>\n",
              "<table border=\"1\" class=\"dataframe\">\n",
              "  <thead>\n",
              "    <tr style=\"text-align: right;\">\n",
              "      <th></th>\n",
              "      <th>ID CODE</th>\n",
              "      <th>Tank NO</th>\n",
              "      <th>Length(um)</th>\n",
              "      <th>Height(um)</th>\n",
              "      <th>Weight(ug)</th>\n",
              "      <th>Plakton</th>\n",
              "      <th>Feed(L)</th>\n",
              "    </tr>\n",
              "  </thead>\n",
              "  <tbody>\n",
              "    <tr>\n",
              "      <th>0</th>\n",
              "      <td>2-2-2-2-4-1113-1040011</td>\n",
              "      <td>5</td>\n",
              "      <td>75.1</td>\n",
              "      <td>0.608</td>\n",
              "      <td>0.810</td>\n",
              "      <td>2.0</td>\n",
              "      <td>80.0</td>\n",
              "    </tr>\n",
              "    <tr>\n",
              "      <th>1</th>\n",
              "      <td>2-2-2-2-4-1113-1040013</td>\n",
              "      <td>5</td>\n",
              "      <td>76.6</td>\n",
              "      <td>0.629</td>\n",
              "      <td>0.825</td>\n",
              "      <td>2.0</td>\n",
              "      <td>80.0</td>\n",
              "    </tr>\n",
              "    <tr>\n",
              "      <th>2</th>\n",
              "      <td>2-2-2-2-4-1113-1040013</td>\n",
              "      <td>5</td>\n",
              "      <td>81.3</td>\n",
              "      <td>0.715</td>\n",
              "      <td>0.872</td>\n",
              "      <td>2.0</td>\n",
              "      <td>80.0</td>\n",
              "    </tr>\n",
              "    <tr>\n",
              "      <th>3</th>\n",
              "      <td>2-2-2-2-4-1113-1040013</td>\n",
              "      <td>5</td>\n",
              "      <td>82.8</td>\n",
              "      <td>0.738</td>\n",
              "      <td>0.888</td>\n",
              "      <td>2.0</td>\n",
              "      <td>80.0</td>\n",
              "    </tr>\n",
              "    <tr>\n",
              "      <th>4</th>\n",
              "      <td>2-2-2-2-4-1113-1040013</td>\n",
              "      <td>5</td>\n",
              "      <td>84.0</td>\n",
              "      <td>0.769</td>\n",
              "      <td>0.901</td>\n",
              "      <td>2.0</td>\n",
              "      <td>80.0</td>\n",
              "    </tr>\n",
              "    <tr>\n",
              "      <th>...</th>\n",
              "      <td>...</td>\n",
              "      <td>...</td>\n",
              "      <td>...</td>\n",
              "      <td>...</td>\n",
              "      <td>...</td>\n",
              "      <td>...</td>\n",
              "      <td>...</td>\n",
              "    </tr>\n",
              "    <tr>\n",
              "      <th>18447</th>\n",
              "      <td>2-2-2-2-4-1213-1094054</td>\n",
              "      <td>17</td>\n",
              "      <td>117.5</td>\n",
              "      <td>1.541</td>\n",
              "      <td>1.343</td>\n",
              "      <td>2.0</td>\n",
              "      <td>70.0</td>\n",
              "    </tr>\n",
              "    <tr>\n",
              "      <th>18448</th>\n",
              "      <td>2-2-2-2-4-1213-1094054</td>\n",
              "      <td>17</td>\n",
              "      <td>122.4</td>\n",
              "      <td>1.676</td>\n",
              "      <td>1.422</td>\n",
              "      <td>2.0</td>\n",
              "      <td>70.0</td>\n",
              "    </tr>\n",
              "    <tr>\n",
              "      <th>18449</th>\n",
              "      <td>2-2-2-2-4-1213-1094054</td>\n",
              "      <td>17</td>\n",
              "      <td>123.0</td>\n",
              "      <td>1.699</td>\n",
              "      <td>1.434</td>\n",
              "      <td>2.0</td>\n",
              "      <td>70.0</td>\n",
              "    </tr>\n",
              "    <tr>\n",
              "      <th>18450</th>\n",
              "      <td>2-2-2-2-4-1213-1094054</td>\n",
              "      <td>17</td>\n",
              "      <td>127.6</td>\n",
              "      <td>1.825</td>\n",
              "      <td>1.511</td>\n",
              "      <td>2.0</td>\n",
              "      <td>70.0</td>\n",
              "    </tr>\n",
              "    <tr>\n",
              "      <th>18451</th>\n",
              "      <td>2-2-2-2-4-1213-1094054</td>\n",
              "      <td>17</td>\n",
              "      <td>132.1</td>\n",
              "      <td>1.970</td>\n",
              "      <td>1.598</td>\n",
              "      <td>2.0</td>\n",
              "      <td>70.0</td>\n",
              "    </tr>\n",
              "  </tbody>\n",
              "</table>\n",
              "<p>420549 rows × 7 columns</p>\n",
              "</div>\n",
              "      <button class=\"colab-df-convert\" onclick=\"convertToInteractive('df-25d63f5d-00d3-44c7-a54c-820df02234ca')\"\n",
              "              title=\"Convert this dataframe to an interactive table.\"\n",
              "              style=\"display:none;\">\n",
              "        \n",
              "  <svg xmlns=\"http://www.w3.org/2000/svg\" height=\"24px\"viewBox=\"0 0 24 24\"\n",
              "       width=\"24px\">\n",
              "    <path d=\"M0 0h24v24H0V0z\" fill=\"none\"/>\n",
              "    <path d=\"M18.56 5.44l.94 2.06.94-2.06 2.06-.94-2.06-.94-.94-2.06-.94 2.06-2.06.94zm-11 1L8.5 8.5l.94-2.06 2.06-.94-2.06-.94L8.5 2.5l-.94 2.06-2.06.94zm10 10l.94 2.06.94-2.06 2.06-.94-2.06-.94-.94-2.06-.94 2.06-2.06.94z\"/><path d=\"M17.41 7.96l-1.37-1.37c-.4-.4-.92-.59-1.43-.59-.52 0-1.04.2-1.43.59L10.3 9.45l-7.72 7.72c-.78.78-.78 2.05 0 2.83L4 21.41c.39.39.9.59 1.41.59.51 0 1.02-.2 1.41-.59l7.78-7.78 2.81-2.81c.8-.78.8-2.07 0-2.86zM5.41 20L4 18.59l7.72-7.72 1.47 1.35L5.41 20z\"/>\n",
              "  </svg>\n",
              "      </button>\n",
              "      \n",
              "  <style>\n",
              "    .colab-df-container {\n",
              "      display:flex;\n",
              "      flex-wrap:wrap;\n",
              "      gap: 12px;\n",
              "    }\n",
              "\n",
              "    .colab-df-convert {\n",
              "      background-color: #E8F0FE;\n",
              "      border: none;\n",
              "      border-radius: 50%;\n",
              "      cursor: pointer;\n",
              "      display: none;\n",
              "      fill: #1967D2;\n",
              "      height: 32px;\n",
              "      padding: 0 0 0 0;\n",
              "      width: 32px;\n",
              "    }\n",
              "\n",
              "    .colab-df-convert:hover {\n",
              "      background-color: #E2EBFA;\n",
              "      box-shadow: 0px 1px 2px rgba(60, 64, 67, 0.3), 0px 1px 3px 1px rgba(60, 64, 67, 0.15);\n",
              "      fill: #174EA6;\n",
              "    }\n",
              "\n",
              "    [theme=dark] .colab-df-convert {\n",
              "      background-color: #3B4455;\n",
              "      fill: #D2E3FC;\n",
              "    }\n",
              "\n",
              "    [theme=dark] .colab-df-convert:hover {\n",
              "      background-color: #434B5C;\n",
              "      box-shadow: 0px 1px 3px 1px rgba(0, 0, 0, 0.15);\n",
              "      filter: drop-shadow(0px 1px 2px rgba(0, 0, 0, 0.3));\n",
              "      fill: #FFFFFF;\n",
              "    }\n",
              "  </style>\n",
              "\n",
              "      <script>\n",
              "        const buttonEl =\n",
              "          document.querySelector('#df-25d63f5d-00d3-44c7-a54c-820df02234ca button.colab-df-convert');\n",
              "        buttonEl.style.display =\n",
              "          google.colab.kernel.accessAllowed ? 'block' : 'none';\n",
              "\n",
              "        async function convertToInteractive(key) {\n",
              "          const element = document.querySelector('#df-25d63f5d-00d3-44c7-a54c-820df02234ca');\n",
              "          const dataTable =\n",
              "            await google.colab.kernel.invokeFunction('convertToInteractive',\n",
              "                                                     [key], {});\n",
              "          if (!dataTable) return;\n",
              "\n",
              "          const docLinkHtml = 'Like what you see? Visit the ' +\n",
              "            '<a target=\"_blank\" href=https://colab.research.google.com/notebooks/data_table.ipynb>data table notebook</a>'\n",
              "            + ' to learn more about interactive tables.';\n",
              "          element.innerHTML = '';\n",
              "          dataTable['output_type'] = 'display_data';\n",
              "          await google.colab.output.renderOutput(dataTable, element);\n",
              "          const docLink = document.createElement('div');\n",
              "          docLink.innerHTML = docLinkHtml;\n",
              "          element.appendChild(docLink);\n",
              "        }\n",
              "      </script>\n",
              "    </div>\n",
              "  </div>\n",
              "  "
            ]
          },
          "metadata": {},
          "execution_count": 5
        }
      ]
    },
    {
      "cell_type": "code",
      "source": [
        "Final.to_csv('Final_ML_Midterm.csv', index = False)"
      ],
      "metadata": {
        "id": "4aP-p_2W6Gq9"
      },
      "execution_count": null,
      "outputs": []
    },
    {
      "cell_type": "markdown",
      "source": [
        "# Test CSV Merge"
      ],
      "metadata": {
        "id": "UA_bajDZFyAK"
      }
    },
    {
      "cell_type": "code",
      "source": [
        "grow = pd.read_csv('/content/4-2-2-2-4-1001-1000000.csv')\n",
        "feed = pd.read_csv('/content/4-2-2-1-3-1001-1000000.csv')\n",
        "feed = feed.groupby('Tank NO').mean()\n",
        "merge = pd.merge(grow, feed, how = 'left', on = 'Tank NO')\n",
        "grow = pd.read_csv('/content/4-2-2-2-4-1002-1000000.csv')\n",
        "feed = pd.read_csv('/content/4-2-2-1-3-1002-1000000.csv')\n",
        "feed = feed.groupby('Tank NO').mean()\n",
        "merge1 = pd.merge(grow, feed, how = 'left', on = 'Tank NO')\n",
        "Final_T = pd.concat([merge,merge1], axis = 0)"
      ],
      "metadata": {
        "id": "eiw12ZZcF0Na"
      },
      "execution_count": null,
      "outputs": []
    },
    {
      "cell_type": "code",
      "source": [
        "array10 = [4,6,7,8,9,17,18,19,20,21,22]\n",
        "array10 = list(map(str, array10))\n",
        "\n",
        "#10월달 csv들 read 해서 merge 후 이전 merge csv와 concat\n",
        "for i in (array10):\n",
        "  i = i.zfill(2)\n",
        "  grow = pd.read_csv('/content/4-2-2-2-4-10' + i + '-1000000.csv')\n",
        "  feed = pd.read_csv('/content/4-2-2-1-3-10' + i + '-1000000.csv')\n",
        "  feed = feed.groupby('Tank NO').mean()\n",
        "  merge = pd.merge(grow, feed, how = 'left', on = 'Tank NO')\n",
        "  Final_T = pd.concat([Final_T,merge], axis = 0)\n"
      ],
      "metadata": {
        "id": "NwNrAP6pF4LM"
      },
      "execution_count": null,
      "outputs": []
    },
    {
      "cell_type": "code",
      "source": [
        "Final_T.to_csv('Final_Test_ML_Midterm.csv', index = False)"
      ],
      "metadata": {
        "id": "tYsahhDuG7i8"
      },
      "execution_count": null,
      "outputs": []
    },
    {
      "cell_type": "markdown",
      "source": [
        "# After CSV Merge\n"
      ],
      "metadata": {
        "id": "a9D2bEidCLQY"
      }
    },
    {
      "cell_type": "code",
      "source": [
        "Final = pd.read_csv('Final_ML_Midterm.csv')\n",
        "Final_T = pd.read_csv('Final_Test_ML_Midterm.csv')"
      ],
      "metadata": {
        "id": "yjbIFRGaBSk8"
      },
      "execution_count": 2,
      "outputs": []
    },
    {
      "cell_type": "code",
      "source": [
        "Final['Tank NO'].nunique()"
      ],
      "metadata": {
        "colab": {
          "base_uri": "https://localhost:8080/"
        },
        "id": "WBxApS-MzxBK",
        "outputId": "dd1d4e28-072f-4b2d-ea98-57c0e5724f91"
      },
      "execution_count": 3,
      "outputs": [
        {
          "output_type": "execute_result",
          "data": {
            "text/plain": [
              "17"
            ]
          },
          "metadata": {},
          "execution_count": 3
        }
      ]
    },
    {
      "cell_type": "code",
      "source": [
        "Final.isnull().sum() #plakton, Feed null값 존재 확인"
      ],
      "metadata": {
        "colab": {
          "base_uri": "https://localhost:8080/"
        },
        "id": "yjBflb7X8TcQ",
        "outputId": "10907bff-435d-4866-f7a1-de5df923b85a"
      },
      "execution_count": 4,
      "outputs": [
        {
          "output_type": "execute_result",
          "data": {
            "text/plain": [
              "ID CODE          0\n",
              "Tank NO          0\n",
              "Length(um)       0\n",
              "Height(um)       0\n",
              "Weight(ug)       0\n",
              "Plakton       8122\n",
              "Feed(L)       8122\n",
              "dtype: int64"
            ]
          },
          "metadata": {},
          "execution_count": 4
        }
      ]
    },
    {
      "cell_type": "markdown",
      "source": [
        "# Feature Engineering"
      ],
      "metadata": {
        "id": "QYOUY2hPX3y9"
      }
    },
    {
      "cell_type": "code",
      "source": [
        "#주지않았으니 0으로 결측치 대체\n",
        "Final['Feed(L)'] = Final['Feed(L)'].fillna(0)\n",
        "Final['Plakton'] = Final['Plakton'].fillna(0)\n",
        "\n",
        "Final_T['Feed(L)'] = Final_T['Feed(L)'].fillna(0)\n",
        "Final_T['Plakton'] = Final_T['Plakton'].fillna(0)"
      ],
      "metadata": {
        "id": "AZjWaRa08aro"
      },
      "execution_count": 5,
      "outputs": []
    },
    {
      "cell_type": "code",
      "source": [
        "Final.isnull().sum() #결측치 대체 완료 확인"
      ],
      "metadata": {
        "colab": {
          "base_uri": "https://localhost:8080/"
        },
        "id": "nlcXdJ0K8paY",
        "outputId": "b12afe2a-8e12-47af-d2aa-07489118fcc9"
      },
      "execution_count": 6,
      "outputs": [
        {
          "output_type": "execute_result",
          "data": {
            "text/plain": [
              "ID CODE       0\n",
              "Tank NO       0\n",
              "Length(um)    0\n",
              "Height(um)    0\n",
              "Weight(ug)    0\n",
              "Plakton       0\n",
              "Feed(L)       0\n",
              "dtype: int64"
            ]
          },
          "metadata": {},
          "execution_count": 6
        }
      ]
    },
    {
      "cell_type": "code",
      "source": [
        "#Length의 스케일이 너무 크니 수업에서 배운대로 스케일링 실시\n",
        "from sklearn import preprocessing\n",
        "scaler = preprocessing.MinMaxScaler() #0~1사이로 스케일링 시켜주는 minmax사용\n",
        "Final['Length(um)'] = scaler.fit_transform(Final['Length(um)'].values.reshape(-1,1))\n",
        "Final_T['Length(um)'] = scaler.transform(Final_T['Length(um)'].values.reshape(-1,1))\n",
        "Final"
      ],
      "metadata": {
        "colab": {
          "base_uri": "https://localhost:8080/",
          "height": 424
        },
        "id": "HnXmJnsD9EgK",
        "outputId": "f2e02741-6782-4070-9de7-43562b875282"
      },
      "execution_count": 7,
      "outputs": [
        {
          "output_type": "execute_result",
          "data": {
            "text/plain": [
              "                       ID CODE  Tank NO  Length(um)  Height(um)  Weight(ug)  \\\n",
              "0       2-2-2-2-4-1113-1040011        5    0.112304       0.608       0.810   \n",
              "1       2-2-2-2-4-1113-1040013        5    0.119016       0.629       0.825   \n",
              "2       2-2-2-2-4-1113-1040013        5    0.140045       0.715       0.872   \n",
              "3       2-2-2-2-4-1113-1040013        5    0.146756       0.738       0.888   \n",
              "4       2-2-2-2-4-1113-1040013        5    0.152125       0.769       0.901   \n",
              "...                        ...      ...         ...         ...         ...   \n",
              "420544  2-2-2-2-4-1213-1094054       17    0.302013       1.541       1.343   \n",
              "420545  2-2-2-2-4-1213-1094054       17    0.323937       1.676       1.422   \n",
              "420546  2-2-2-2-4-1213-1094054       17    0.326622       1.699       1.434   \n",
              "420547  2-2-2-2-4-1213-1094054       17    0.347204       1.825       1.511   \n",
              "420548  2-2-2-2-4-1213-1094054       17    0.367338       1.970       1.598   \n",
              "\n",
              "        Plakton  Feed(L)  \n",
              "0           2.0     80.0  \n",
              "1           2.0     80.0  \n",
              "2           2.0     80.0  \n",
              "3           2.0     80.0  \n",
              "4           2.0     80.0  \n",
              "...         ...      ...  \n",
              "420544      2.0     70.0  \n",
              "420545      2.0     70.0  \n",
              "420546      2.0     70.0  \n",
              "420547      2.0     70.0  \n",
              "420548      2.0     70.0  \n",
              "\n",
              "[420549 rows x 7 columns]"
            ],
            "text/html": [
              "\n",
              "  <div id=\"df-e87afdd7-8454-40ad-b368-8da094b9d345\">\n",
              "    <div class=\"colab-df-container\">\n",
              "      <div>\n",
              "<style scoped>\n",
              "    .dataframe tbody tr th:only-of-type {\n",
              "        vertical-align: middle;\n",
              "    }\n",
              "\n",
              "    .dataframe tbody tr th {\n",
              "        vertical-align: top;\n",
              "    }\n",
              "\n",
              "    .dataframe thead th {\n",
              "        text-align: right;\n",
              "    }\n",
              "</style>\n",
              "<table border=\"1\" class=\"dataframe\">\n",
              "  <thead>\n",
              "    <tr style=\"text-align: right;\">\n",
              "      <th></th>\n",
              "      <th>ID CODE</th>\n",
              "      <th>Tank NO</th>\n",
              "      <th>Length(um)</th>\n",
              "      <th>Height(um)</th>\n",
              "      <th>Weight(ug)</th>\n",
              "      <th>Plakton</th>\n",
              "      <th>Feed(L)</th>\n",
              "    </tr>\n",
              "  </thead>\n",
              "  <tbody>\n",
              "    <tr>\n",
              "      <th>0</th>\n",
              "      <td>2-2-2-2-4-1113-1040011</td>\n",
              "      <td>5</td>\n",
              "      <td>0.112304</td>\n",
              "      <td>0.608</td>\n",
              "      <td>0.810</td>\n",
              "      <td>2.0</td>\n",
              "      <td>80.0</td>\n",
              "    </tr>\n",
              "    <tr>\n",
              "      <th>1</th>\n",
              "      <td>2-2-2-2-4-1113-1040013</td>\n",
              "      <td>5</td>\n",
              "      <td>0.119016</td>\n",
              "      <td>0.629</td>\n",
              "      <td>0.825</td>\n",
              "      <td>2.0</td>\n",
              "      <td>80.0</td>\n",
              "    </tr>\n",
              "    <tr>\n",
              "      <th>2</th>\n",
              "      <td>2-2-2-2-4-1113-1040013</td>\n",
              "      <td>5</td>\n",
              "      <td>0.140045</td>\n",
              "      <td>0.715</td>\n",
              "      <td>0.872</td>\n",
              "      <td>2.0</td>\n",
              "      <td>80.0</td>\n",
              "    </tr>\n",
              "    <tr>\n",
              "      <th>3</th>\n",
              "      <td>2-2-2-2-4-1113-1040013</td>\n",
              "      <td>5</td>\n",
              "      <td>0.146756</td>\n",
              "      <td>0.738</td>\n",
              "      <td>0.888</td>\n",
              "      <td>2.0</td>\n",
              "      <td>80.0</td>\n",
              "    </tr>\n",
              "    <tr>\n",
              "      <th>4</th>\n",
              "      <td>2-2-2-2-4-1113-1040013</td>\n",
              "      <td>5</td>\n",
              "      <td>0.152125</td>\n",
              "      <td>0.769</td>\n",
              "      <td>0.901</td>\n",
              "      <td>2.0</td>\n",
              "      <td>80.0</td>\n",
              "    </tr>\n",
              "    <tr>\n",
              "      <th>...</th>\n",
              "      <td>...</td>\n",
              "      <td>...</td>\n",
              "      <td>...</td>\n",
              "      <td>...</td>\n",
              "      <td>...</td>\n",
              "      <td>...</td>\n",
              "      <td>...</td>\n",
              "    </tr>\n",
              "    <tr>\n",
              "      <th>420544</th>\n",
              "      <td>2-2-2-2-4-1213-1094054</td>\n",
              "      <td>17</td>\n",
              "      <td>0.302013</td>\n",
              "      <td>1.541</td>\n",
              "      <td>1.343</td>\n",
              "      <td>2.0</td>\n",
              "      <td>70.0</td>\n",
              "    </tr>\n",
              "    <tr>\n",
              "      <th>420545</th>\n",
              "      <td>2-2-2-2-4-1213-1094054</td>\n",
              "      <td>17</td>\n",
              "      <td>0.323937</td>\n",
              "      <td>1.676</td>\n",
              "      <td>1.422</td>\n",
              "      <td>2.0</td>\n",
              "      <td>70.0</td>\n",
              "    </tr>\n",
              "    <tr>\n",
              "      <th>420546</th>\n",
              "      <td>2-2-2-2-4-1213-1094054</td>\n",
              "      <td>17</td>\n",
              "      <td>0.326622</td>\n",
              "      <td>1.699</td>\n",
              "      <td>1.434</td>\n",
              "      <td>2.0</td>\n",
              "      <td>70.0</td>\n",
              "    </tr>\n",
              "    <tr>\n",
              "      <th>420547</th>\n",
              "      <td>2-2-2-2-4-1213-1094054</td>\n",
              "      <td>17</td>\n",
              "      <td>0.347204</td>\n",
              "      <td>1.825</td>\n",
              "      <td>1.511</td>\n",
              "      <td>2.0</td>\n",
              "      <td>70.0</td>\n",
              "    </tr>\n",
              "    <tr>\n",
              "      <th>420548</th>\n",
              "      <td>2-2-2-2-4-1213-1094054</td>\n",
              "      <td>17</td>\n",
              "      <td>0.367338</td>\n",
              "      <td>1.970</td>\n",
              "      <td>1.598</td>\n",
              "      <td>2.0</td>\n",
              "      <td>70.0</td>\n",
              "    </tr>\n",
              "  </tbody>\n",
              "</table>\n",
              "<p>420549 rows × 7 columns</p>\n",
              "</div>\n",
              "      <button class=\"colab-df-convert\" onclick=\"convertToInteractive('df-e87afdd7-8454-40ad-b368-8da094b9d345')\"\n",
              "              title=\"Convert this dataframe to an interactive table.\"\n",
              "              style=\"display:none;\">\n",
              "        \n",
              "  <svg xmlns=\"http://www.w3.org/2000/svg\" height=\"24px\"viewBox=\"0 0 24 24\"\n",
              "       width=\"24px\">\n",
              "    <path d=\"M0 0h24v24H0V0z\" fill=\"none\"/>\n",
              "    <path d=\"M18.56 5.44l.94 2.06.94-2.06 2.06-.94-2.06-.94-.94-2.06-.94 2.06-2.06.94zm-11 1L8.5 8.5l.94-2.06 2.06-.94-2.06-.94L8.5 2.5l-.94 2.06-2.06.94zm10 10l.94 2.06.94-2.06 2.06-.94-2.06-.94-.94-2.06-.94 2.06-2.06.94z\"/><path d=\"M17.41 7.96l-1.37-1.37c-.4-.4-.92-.59-1.43-.59-.52 0-1.04.2-1.43.59L10.3 9.45l-7.72 7.72c-.78.78-.78 2.05 0 2.83L4 21.41c.39.39.9.59 1.41.59.51 0 1.02-.2 1.41-.59l7.78-7.78 2.81-2.81c.8-.78.8-2.07 0-2.86zM5.41 20L4 18.59l7.72-7.72 1.47 1.35L5.41 20z\"/>\n",
              "  </svg>\n",
              "      </button>\n",
              "      \n",
              "  <style>\n",
              "    .colab-df-container {\n",
              "      display:flex;\n",
              "      flex-wrap:wrap;\n",
              "      gap: 12px;\n",
              "    }\n",
              "\n",
              "    .colab-df-convert {\n",
              "      background-color: #E8F0FE;\n",
              "      border: none;\n",
              "      border-radius: 50%;\n",
              "      cursor: pointer;\n",
              "      display: none;\n",
              "      fill: #1967D2;\n",
              "      height: 32px;\n",
              "      padding: 0 0 0 0;\n",
              "      width: 32px;\n",
              "    }\n",
              "\n",
              "    .colab-df-convert:hover {\n",
              "      background-color: #E2EBFA;\n",
              "      box-shadow: 0px 1px 2px rgba(60, 64, 67, 0.3), 0px 1px 3px 1px rgba(60, 64, 67, 0.15);\n",
              "      fill: #174EA6;\n",
              "    }\n",
              "\n",
              "    [theme=dark] .colab-df-convert {\n",
              "      background-color: #3B4455;\n",
              "      fill: #D2E3FC;\n",
              "    }\n",
              "\n",
              "    [theme=dark] .colab-df-convert:hover {\n",
              "      background-color: #434B5C;\n",
              "      box-shadow: 0px 1px 3px 1px rgba(0, 0, 0, 0.15);\n",
              "      filter: drop-shadow(0px 1px 2px rgba(0, 0, 0, 0.3));\n",
              "      fill: #FFFFFF;\n",
              "    }\n",
              "  </style>\n",
              "\n",
              "      <script>\n",
              "        const buttonEl =\n",
              "          document.querySelector('#df-e87afdd7-8454-40ad-b368-8da094b9d345 button.colab-df-convert');\n",
              "        buttonEl.style.display =\n",
              "          google.colab.kernel.accessAllowed ? 'block' : 'none';\n",
              "\n",
              "        async function convertToInteractive(key) {\n",
              "          const element = document.querySelector('#df-e87afdd7-8454-40ad-b368-8da094b9d345');\n",
              "          const dataTable =\n",
              "            await google.colab.kernel.invokeFunction('convertToInteractive',\n",
              "                                                     [key], {});\n",
              "          if (!dataTable) return;\n",
              "\n",
              "          const docLinkHtml = 'Like what you see? Visit the ' +\n",
              "            '<a target=\"_blank\" href=https://colab.research.google.com/notebooks/data_table.ipynb>data table notebook</a>'\n",
              "            + ' to learn more about interactive tables.';\n",
              "          element.innerHTML = '';\n",
              "          dataTable['output_type'] = 'display_data';\n",
              "          await google.colab.output.renderOutput(dataTable, element);\n",
              "          const docLink = document.createElement('div');\n",
              "          docLink.innerHTML = docLinkHtml;\n",
              "          element.appendChild(docLink);\n",
              "        }\n",
              "      </script>\n",
              "    </div>\n",
              "  </div>\n",
              "  "
            ]
          },
          "metadata": {},
          "execution_count": 7
        }
      ]
    },
    {
      "cell_type": "code",
      "source": [
        "corr=Final.corr()\n",
        "corr"
      ],
      "metadata": {
        "colab": {
          "base_uri": "https://localhost:8080/",
          "height": 238
        },
        "id": "uPjOpEL2GmLT",
        "outputId": "e9712c92-8ce7-448a-8298-213bc9bbba12"
      },
      "execution_count": 8,
      "outputs": [
        {
          "output_type": "execute_result",
          "data": {
            "text/plain": [
              "             Tank NO  Length(um)  Height(um)  Weight(ug)   Plakton   Feed(L)\n",
              "Tank NO     1.000000   -0.017332   -0.021101   -0.016129  0.020150  0.092422\n",
              "Length(um) -0.017332    1.000000    0.973134    0.945791  0.337635 -0.055382\n",
              "Height(um) -0.021101    0.973134    1.000000    0.992969  0.334743 -0.092757\n",
              "Weight(ug) -0.016129    0.945791    0.992969    1.000000  0.311407 -0.092965\n",
              "Plakton     0.020150    0.337635    0.334743    0.311407  1.000000 -0.165883\n",
              "Feed(L)     0.092422   -0.055382   -0.092757   -0.092965 -0.165883  1.000000"
            ],
            "text/html": [
              "\n",
              "  <div id=\"df-abf1ab57-4856-4760-be1c-92b38de136ef\">\n",
              "    <div class=\"colab-df-container\">\n",
              "      <div>\n",
              "<style scoped>\n",
              "    .dataframe tbody tr th:only-of-type {\n",
              "        vertical-align: middle;\n",
              "    }\n",
              "\n",
              "    .dataframe tbody tr th {\n",
              "        vertical-align: top;\n",
              "    }\n",
              "\n",
              "    .dataframe thead th {\n",
              "        text-align: right;\n",
              "    }\n",
              "</style>\n",
              "<table border=\"1\" class=\"dataframe\">\n",
              "  <thead>\n",
              "    <tr style=\"text-align: right;\">\n",
              "      <th></th>\n",
              "      <th>Tank NO</th>\n",
              "      <th>Length(um)</th>\n",
              "      <th>Height(um)</th>\n",
              "      <th>Weight(ug)</th>\n",
              "      <th>Plakton</th>\n",
              "      <th>Feed(L)</th>\n",
              "    </tr>\n",
              "  </thead>\n",
              "  <tbody>\n",
              "    <tr>\n",
              "      <th>Tank NO</th>\n",
              "      <td>1.000000</td>\n",
              "      <td>-0.017332</td>\n",
              "      <td>-0.021101</td>\n",
              "      <td>-0.016129</td>\n",
              "      <td>0.020150</td>\n",
              "      <td>0.092422</td>\n",
              "    </tr>\n",
              "    <tr>\n",
              "      <th>Length(um)</th>\n",
              "      <td>-0.017332</td>\n",
              "      <td>1.000000</td>\n",
              "      <td>0.973134</td>\n",
              "      <td>0.945791</td>\n",
              "      <td>0.337635</td>\n",
              "      <td>-0.055382</td>\n",
              "    </tr>\n",
              "    <tr>\n",
              "      <th>Height(um)</th>\n",
              "      <td>-0.021101</td>\n",
              "      <td>0.973134</td>\n",
              "      <td>1.000000</td>\n",
              "      <td>0.992969</td>\n",
              "      <td>0.334743</td>\n",
              "      <td>-0.092757</td>\n",
              "    </tr>\n",
              "    <tr>\n",
              "      <th>Weight(ug)</th>\n",
              "      <td>-0.016129</td>\n",
              "      <td>0.945791</td>\n",
              "      <td>0.992969</td>\n",
              "      <td>1.000000</td>\n",
              "      <td>0.311407</td>\n",
              "      <td>-0.092965</td>\n",
              "    </tr>\n",
              "    <tr>\n",
              "      <th>Plakton</th>\n",
              "      <td>0.020150</td>\n",
              "      <td>0.337635</td>\n",
              "      <td>0.334743</td>\n",
              "      <td>0.311407</td>\n",
              "      <td>1.000000</td>\n",
              "      <td>-0.165883</td>\n",
              "    </tr>\n",
              "    <tr>\n",
              "      <th>Feed(L)</th>\n",
              "      <td>0.092422</td>\n",
              "      <td>-0.055382</td>\n",
              "      <td>-0.092757</td>\n",
              "      <td>-0.092965</td>\n",
              "      <td>-0.165883</td>\n",
              "      <td>1.000000</td>\n",
              "    </tr>\n",
              "  </tbody>\n",
              "</table>\n",
              "</div>\n",
              "      <button class=\"colab-df-convert\" onclick=\"convertToInteractive('df-abf1ab57-4856-4760-be1c-92b38de136ef')\"\n",
              "              title=\"Convert this dataframe to an interactive table.\"\n",
              "              style=\"display:none;\">\n",
              "        \n",
              "  <svg xmlns=\"http://www.w3.org/2000/svg\" height=\"24px\"viewBox=\"0 0 24 24\"\n",
              "       width=\"24px\">\n",
              "    <path d=\"M0 0h24v24H0V0z\" fill=\"none\"/>\n",
              "    <path d=\"M18.56 5.44l.94 2.06.94-2.06 2.06-.94-2.06-.94-.94-2.06-.94 2.06-2.06.94zm-11 1L8.5 8.5l.94-2.06 2.06-.94-2.06-.94L8.5 2.5l-.94 2.06-2.06.94zm10 10l.94 2.06.94-2.06 2.06-.94-2.06-.94-.94-2.06-.94 2.06-2.06.94z\"/><path d=\"M17.41 7.96l-1.37-1.37c-.4-.4-.92-.59-1.43-.59-.52 0-1.04.2-1.43.59L10.3 9.45l-7.72 7.72c-.78.78-.78 2.05 0 2.83L4 21.41c.39.39.9.59 1.41.59.51 0 1.02-.2 1.41-.59l7.78-7.78 2.81-2.81c.8-.78.8-2.07 0-2.86zM5.41 20L4 18.59l7.72-7.72 1.47 1.35L5.41 20z\"/>\n",
              "  </svg>\n",
              "      </button>\n",
              "      \n",
              "  <style>\n",
              "    .colab-df-container {\n",
              "      display:flex;\n",
              "      flex-wrap:wrap;\n",
              "      gap: 12px;\n",
              "    }\n",
              "\n",
              "    .colab-df-convert {\n",
              "      background-color: #E8F0FE;\n",
              "      border: none;\n",
              "      border-radius: 50%;\n",
              "      cursor: pointer;\n",
              "      display: none;\n",
              "      fill: #1967D2;\n",
              "      height: 32px;\n",
              "      padding: 0 0 0 0;\n",
              "      width: 32px;\n",
              "    }\n",
              "\n",
              "    .colab-df-convert:hover {\n",
              "      background-color: #E2EBFA;\n",
              "      box-shadow: 0px 1px 2px rgba(60, 64, 67, 0.3), 0px 1px 3px 1px rgba(60, 64, 67, 0.15);\n",
              "      fill: #174EA6;\n",
              "    }\n",
              "\n",
              "    [theme=dark] .colab-df-convert {\n",
              "      background-color: #3B4455;\n",
              "      fill: #D2E3FC;\n",
              "    }\n",
              "\n",
              "    [theme=dark] .colab-df-convert:hover {\n",
              "      background-color: #434B5C;\n",
              "      box-shadow: 0px 1px 3px 1px rgba(0, 0, 0, 0.15);\n",
              "      filter: drop-shadow(0px 1px 2px rgba(0, 0, 0, 0.3));\n",
              "      fill: #FFFFFF;\n",
              "    }\n",
              "  </style>\n",
              "\n",
              "      <script>\n",
              "        const buttonEl =\n",
              "          document.querySelector('#df-abf1ab57-4856-4760-be1c-92b38de136ef button.colab-df-convert');\n",
              "        buttonEl.style.display =\n",
              "          google.colab.kernel.accessAllowed ? 'block' : 'none';\n",
              "\n",
              "        async function convertToInteractive(key) {\n",
              "          const element = document.querySelector('#df-abf1ab57-4856-4760-be1c-92b38de136ef');\n",
              "          const dataTable =\n",
              "            await google.colab.kernel.invokeFunction('convertToInteractive',\n",
              "                                                     [key], {});\n",
              "          if (!dataTable) return;\n",
              "\n",
              "          const docLinkHtml = 'Like what you see? Visit the ' +\n",
              "            '<a target=\"_blank\" href=https://colab.research.google.com/notebooks/data_table.ipynb>data table notebook</a>'\n",
              "            + ' to learn more about interactive tables.';\n",
              "          element.innerHTML = '';\n",
              "          dataTable['output_type'] = 'display_data';\n",
              "          await google.colab.output.renderOutput(dataTable, element);\n",
              "          const docLink = document.createElement('div');\n",
              "          docLink.innerHTML = docLinkHtml;\n",
              "          element.appendChild(docLink);\n",
              "        }\n",
              "      </script>\n",
              "    </div>\n",
              "  </div>\n",
              "  "
            ]
          },
          "metadata": {},
          "execution_count": 8
        }
      ]
    },
    {
      "cell_type": "markdown",
      "source": [
        "# 문제1(Feed(L) 예측) 회귀"
      ],
      "metadata": {
        "id": "k32UfTDDJTu1"
      }
    },
    {
      "cell_type": "code",
      "source": [
        "#train, test셋 분리\n",
        "#target값은 Feed로\n",
        "train_x = Final.drop(['Feed(L)', 'ID CODE'], axis = 1)\n",
        "train_y = Final['Feed(L)']\n",
        "test_x = Final_T.drop(['Feed(L)', 'ID CODE'], axis = 1)\n",
        "submit = Final_T.drop(['Feed(L)', 'ID CODE','Length(um)', 'Height(um)', 'Weight(ug)', 'Plakton', 'Tank NO'], axis = 1)\n",
        "submit['Feed(L)'] = 0"
      ],
      "metadata": {
        "id": "eFLr4zRA-_dQ"
      },
      "execution_count": 9,
      "outputs": []
    },
    {
      "cell_type": "markdown",
      "source": [
        "### Cross Validation"
      ],
      "metadata": {
        "id": "r7vfVID1JYF3"
      }
    },
    {
      "cell_type": "code",
      "source": [
        "from sklearn.model_selection import train_test_split\n",
        "from sklearn.model_selection import KFold\n",
        "from sklearn.tree import DecisionTreeRegressor  #분류로도 풀어볼까?\n",
        "from sklearn.linear_model import Ridge\n",
        "from sklearn.linear_model import Lasso\n",
        "from sklearn.ensemble import RandomForestRegressor\n",
        "from sklearn.metrics import mean_squared_error\n",
        "from sklearn.model_selection import GridSearchCV\n",
        "import numpy as np\n",
        "\n",
        "kf = KFold(n_splits=5, shuffle = True) # True로 하고 안하고 차이가 너무 심함\n",
        "cv_mse = [] \n",
        "n_iter = 0\n",
        "\n",
        "dt_model = DecisionTreeRegressor()\n",
        "Lasso_model = Lasso()\n",
        "ridge_model = Ridge()\n",
        "rf_model = RandomForestRegressor()\n",
        "\n",
        "for train_idx, test_idx in kf.split(train_x,train_y) :\n",
        "    X_train , X_test = train_x.iloc[train_idx] , train_x.iloc[test_idx]\n",
        "    y_train , y_test = train_y.iloc[train_idx] , train_y.iloc[test_idx]\n",
        "\n",
        "    dt_model.fit(X_train , y_train)\n",
        "    # 예측\n",
        "    fold_pred = dt_model.predict(X_test)\n",
        "    \n",
        "    # 정확도 측정\n",
        "    n_iter += 1\n",
        "    mse = np.round(mean_squared_error(y_test , fold_pred) , 4)\n",
        "    print('\\n{} Tune Decision Tree MSE : {} , training_size : {} , validation_size : {}'.format(n_iter, mse, X_train.shape[0] , X_test.shape[0]))\n",
        "    cv_mse.append(mse)\n",
        "print('\\n')\n",
        "\n",
        "print('\\n 평균 MSE :  ' , np.mean(cv_mse))"
      ],
      "metadata": {
        "colab": {
          "base_uri": "https://localhost:8080/"
        },
        "id": "T6WrYg_6-GRs",
        "outputId": "6f4753ba-75b0-4728-cb5b-593472454255"
      },
      "execution_count": 10,
      "outputs": [
        {
          "output_type": "stream",
          "name": "stdout",
          "text": [
            "\n",
            "1 Tune Decision Tree MSE : 28.9187 , training_size : 336439 , validation_size : 84110\n",
            "\n",
            "2 Tune Decision Tree MSE : 28.5735 , training_size : 336439 , validation_size : 84110\n",
            "\n",
            "3 Tune Decision Tree MSE : 29.1744 , training_size : 336439 , validation_size : 84110\n",
            "\n",
            "4 Tune Decision Tree MSE : 29.5829 , training_size : 336439 , validation_size : 84110\n",
            "\n",
            "5 Tune Decision Tree MSE : 29.0565 , training_size : 336440 , validation_size : 84109\n",
            "\n",
            "\n",
            "\n",
            " 평균 MSE :   29.061199999999996\n"
          ]
        }
      ]
    },
    {
      "cell_type": "markdown",
      "source": [
        "### Lasso"
      ],
      "metadata": {
        "id": "gdaaBmfJYEIO"
      }
    },
    {
      "cell_type": "code",
      "source": [
        "from sklearn.model_selection import GridSearchCV\n",
        "from sklearn.metrics import mean_squared_error\n",
        "from sklearn import metrics\n",
        "\n",
        "\n",
        "# 모델 생성\n",
        "lasso_model = Lasso()\n",
        "# 하이퍼파라미터 값 목록\n",
        "lasso_alpha = 1/np.array([0.1, 1, 10, 100, 200, 1000])\n",
        "lasso_params = {'max_iter':[10,100,500,3000], 'alpha':lasso_alpha}\n",
        "# 그리드서치(with 라쏘) 객체 생성\n",
        "mse_scorer = metrics.make_scorer(mean_squared_error, greater_is_better=False)\n",
        "\n",
        "gridsearch_lasso_model = GridSearchCV(estimator=lasso_model,\n",
        "param_grid=lasso_params,\n",
        "scoring=mse_scorer,\n",
        "cv=5)\n",
        "# 그리드서치 수행\n",
        "gridsearch_lasso_model.fit(train_x, train_y)"
      ],
      "metadata": {
        "id": "zcTyqfVnYFbv"
      },
      "execution_count": null,
      "outputs": []
    },
    {
      "cell_type": "code",
      "source": [
        "print('최적 하이퍼파라미터 :', gridsearch_lasso_model.best_params_)"
      ],
      "metadata": {
        "colab": {
          "base_uri": "https://localhost:8080/"
        },
        "id": "RZ1wqUdxYJoG",
        "outputId": "9a925c89-a059-4f1b-b499-5c78e963072a"
      },
      "execution_count": 12,
      "outputs": [
        {
          "output_type": "stream",
          "name": "stdout",
          "text": [
            "최적 하이퍼파라미터 : {'alpha': 0.001, 'max_iter': 3000}\n"
          ]
        }
      ]
    },
    {
      "cell_type": "code",
      "source": [
        "#Lasso 예측\n",
        "pred = gridsearch_lasso_model.best_estimator_.predict(test_x)\n",
        "submit['Feed(L)'] = pred\n",
        "submit"
      ],
      "metadata": {
        "colab": {
          "base_uri": "https://localhost:8080/",
          "height": 424
        },
        "id": "njG8AYF6YMln",
        "outputId": "5f17ad54-d093-447d-9cc9-5edf04f0c796"
      },
      "execution_count": 13,
      "outputs": [
        {
          "output_type": "execute_result",
          "data": {
            "text/plain": [
              "         Feed(L)\n",
              "0      47.263899\n",
              "1      47.377556\n",
              "2      47.015052\n",
              "3      47.165847\n",
              "4      47.223443\n",
              "...          ...\n",
              "16637  49.787585\n",
              "16638  49.715903\n",
              "16639  45.477175\n",
              "16640  49.992594\n",
              "16641  49.184213\n",
              "\n",
              "[16642 rows x 1 columns]"
            ],
            "text/html": [
              "\n",
              "  <div id=\"df-209ac204-c4f7-40d3-ae17-77b6d94c19fa\">\n",
              "    <div class=\"colab-df-container\">\n",
              "      <div>\n",
              "<style scoped>\n",
              "    .dataframe tbody tr th:only-of-type {\n",
              "        vertical-align: middle;\n",
              "    }\n",
              "\n",
              "    .dataframe tbody tr th {\n",
              "        vertical-align: top;\n",
              "    }\n",
              "\n",
              "    .dataframe thead th {\n",
              "        text-align: right;\n",
              "    }\n",
              "</style>\n",
              "<table border=\"1\" class=\"dataframe\">\n",
              "  <thead>\n",
              "    <tr style=\"text-align: right;\">\n",
              "      <th></th>\n",
              "      <th>Feed(L)</th>\n",
              "    </tr>\n",
              "  </thead>\n",
              "  <tbody>\n",
              "    <tr>\n",
              "      <th>0</th>\n",
              "      <td>47.263899</td>\n",
              "    </tr>\n",
              "    <tr>\n",
              "      <th>1</th>\n",
              "      <td>47.377556</td>\n",
              "    </tr>\n",
              "    <tr>\n",
              "      <th>2</th>\n",
              "      <td>47.015052</td>\n",
              "    </tr>\n",
              "    <tr>\n",
              "      <th>3</th>\n",
              "      <td>47.165847</td>\n",
              "    </tr>\n",
              "    <tr>\n",
              "      <th>4</th>\n",
              "      <td>47.223443</td>\n",
              "    </tr>\n",
              "    <tr>\n",
              "      <th>...</th>\n",
              "      <td>...</td>\n",
              "    </tr>\n",
              "    <tr>\n",
              "      <th>16637</th>\n",
              "      <td>49.787585</td>\n",
              "    </tr>\n",
              "    <tr>\n",
              "      <th>16638</th>\n",
              "      <td>49.715903</td>\n",
              "    </tr>\n",
              "    <tr>\n",
              "      <th>16639</th>\n",
              "      <td>45.477175</td>\n",
              "    </tr>\n",
              "    <tr>\n",
              "      <th>16640</th>\n",
              "      <td>49.992594</td>\n",
              "    </tr>\n",
              "    <tr>\n",
              "      <th>16641</th>\n",
              "      <td>49.184213</td>\n",
              "    </tr>\n",
              "  </tbody>\n",
              "</table>\n",
              "<p>16642 rows × 1 columns</p>\n",
              "</div>\n",
              "      <button class=\"colab-df-convert\" onclick=\"convertToInteractive('df-209ac204-c4f7-40d3-ae17-77b6d94c19fa')\"\n",
              "              title=\"Convert this dataframe to an interactive table.\"\n",
              "              style=\"display:none;\">\n",
              "        \n",
              "  <svg xmlns=\"http://www.w3.org/2000/svg\" height=\"24px\"viewBox=\"0 0 24 24\"\n",
              "       width=\"24px\">\n",
              "    <path d=\"M0 0h24v24H0V0z\" fill=\"none\"/>\n",
              "    <path d=\"M18.56 5.44l.94 2.06.94-2.06 2.06-.94-2.06-.94-.94-2.06-.94 2.06-2.06.94zm-11 1L8.5 8.5l.94-2.06 2.06-.94-2.06-.94L8.5 2.5l-.94 2.06-2.06.94zm10 10l.94 2.06.94-2.06 2.06-.94-2.06-.94-.94-2.06-.94 2.06-2.06.94z\"/><path d=\"M17.41 7.96l-1.37-1.37c-.4-.4-.92-.59-1.43-.59-.52 0-1.04.2-1.43.59L10.3 9.45l-7.72 7.72c-.78.78-.78 2.05 0 2.83L4 21.41c.39.39.9.59 1.41.59.51 0 1.02-.2 1.41-.59l7.78-7.78 2.81-2.81c.8-.78.8-2.07 0-2.86zM5.41 20L4 18.59l7.72-7.72 1.47 1.35L5.41 20z\"/>\n",
              "  </svg>\n",
              "      </button>\n",
              "      \n",
              "  <style>\n",
              "    .colab-df-container {\n",
              "      display:flex;\n",
              "      flex-wrap:wrap;\n",
              "      gap: 12px;\n",
              "    }\n",
              "\n",
              "    .colab-df-convert {\n",
              "      background-color: #E8F0FE;\n",
              "      border: none;\n",
              "      border-radius: 50%;\n",
              "      cursor: pointer;\n",
              "      display: none;\n",
              "      fill: #1967D2;\n",
              "      height: 32px;\n",
              "      padding: 0 0 0 0;\n",
              "      width: 32px;\n",
              "    }\n",
              "\n",
              "    .colab-df-convert:hover {\n",
              "      background-color: #E2EBFA;\n",
              "      box-shadow: 0px 1px 2px rgba(60, 64, 67, 0.3), 0px 1px 3px 1px rgba(60, 64, 67, 0.15);\n",
              "      fill: #174EA6;\n",
              "    }\n",
              "\n",
              "    [theme=dark] .colab-df-convert {\n",
              "      background-color: #3B4455;\n",
              "      fill: #D2E3FC;\n",
              "    }\n",
              "\n",
              "    [theme=dark] .colab-df-convert:hover {\n",
              "      background-color: #434B5C;\n",
              "      box-shadow: 0px 1px 3px 1px rgba(0, 0, 0, 0.15);\n",
              "      filter: drop-shadow(0px 1px 2px rgba(0, 0, 0, 0.3));\n",
              "      fill: #FFFFFF;\n",
              "    }\n",
              "  </style>\n",
              "\n",
              "      <script>\n",
              "        const buttonEl =\n",
              "          document.querySelector('#df-209ac204-c4f7-40d3-ae17-77b6d94c19fa button.colab-df-convert');\n",
              "        buttonEl.style.display =\n",
              "          google.colab.kernel.accessAllowed ? 'block' : 'none';\n",
              "\n",
              "        async function convertToInteractive(key) {\n",
              "          const element = document.querySelector('#df-209ac204-c4f7-40d3-ae17-77b6d94c19fa');\n",
              "          const dataTable =\n",
              "            await google.colab.kernel.invokeFunction('convertToInteractive',\n",
              "                                                     [key], {});\n",
              "          if (!dataTable) return;\n",
              "\n",
              "          const docLinkHtml = 'Like what you see? Visit the ' +\n",
              "            '<a target=\"_blank\" href=https://colab.research.google.com/notebooks/data_table.ipynb>data table notebook</a>'\n",
              "            + ' to learn more about interactive tables.';\n",
              "          element.innerHTML = '';\n",
              "          dataTable['output_type'] = 'display_data';\n",
              "          await google.colab.output.renderOutput(dataTable, element);\n",
              "          const docLink = document.createElement('div');\n",
              "          docLink.innerHTML = docLinkHtml;\n",
              "          element.appendChild(docLink);\n",
              "        }\n",
              "      </script>\n",
              "    </div>\n",
              "  </div>\n",
              "  "
            ]
          },
          "metadata": {},
          "execution_count": 13
        }
      ]
    },
    {
      "cell_type": "code",
      "source": [
        "#lr_model = LinearRegression().fit(train_x.values,train_y.values)\n",
        "La1 = Lasso(alpha = 0.1)\n",
        "La2 = Lasso(alpha = 1)\n",
        "La3 = Lasso(alpha = 10)\n",
        "La4 = Lasso(alpha = 1000)\n",
        "La1.fit(train_x,train_y)\n",
        "La2.fit(train_x,train_y)\n",
        "La3.fit(train_x,train_y)\n",
        "La4.fit(train_x,train_y)"
      ],
      "metadata": {
        "colab": {
          "base_uri": "https://localhost:8080/"
        },
        "id": "j9H5LQKEYS7W",
        "outputId": "bc8be84e-931b-4cc9-88c7-c73f6a1a3eed"
      },
      "execution_count": 14,
      "outputs": [
        {
          "output_type": "execute_result",
          "data": {
            "text/plain": [
              "Lasso(alpha=1000)"
            ]
          },
          "metadata": {},
          "execution_count": 14
        }
      ]
    },
    {
      "cell_type": "code",
      "source": [
        "import matplotlib.pyplot as plt\n",
        "plt.plot(La1.coef_, \"^\", label = \"alpha = 0.1\")\n",
        "plt.plot(La2.coef_, \"^\", label = \"alpha = 1\")\n",
        "plt.plot(La3.coef_, \"o\", label = \"alpha = 10\")\n",
        "plt.plot(La4.coef_, \"ro\", label = \"alpha = 1000\")\n",
        "plt.xlabel(\"coef list\")\n",
        "plt.ylabel(\"coefficient\")\n",
        "plt.hlines(0,0,len(La1.coef_))\n",
        "plt.ylim(-50,50)\n",
        "plt.legend(loc='upper right', fontsize = 10)\n",
        "plt.show()"
      ],
      "metadata": {
        "colab": {
          "base_uri": "https://localhost:8080/",
          "height": 279
        },
        "id": "r9GS5AY7YT0q",
        "outputId": "9821c758-3678-4c8e-9c33-0c939f64477c"
      },
      "execution_count": 15,
      "outputs": [
        {
          "output_type": "display_data",
          "data": {
            "text/plain": [
              "<Figure size 432x288 with 1 Axes>"
            ],
            "image/png": "[encoded data removed]"
          },
          "metadata": {
            "needs_background": "light"
          }
        }
      ]
    },
    {
      "cell_type": "markdown",
      "source": [
        "### Ridge"
      ],
      "metadata": {
        "id": "OgXnKRloJabx"
      }
    },
    {
      "cell_type": "code",
      "source": [
        "from sklearn import metrics\n",
        "ridge_model = Ridge()"
      ],
      "metadata": {
        "id": "HKKQyf_YJAoN"
      },
      "execution_count": 16,
      "outputs": []
    },
    {
      "cell_type": "code",
      "source": [
        "# 하이퍼파라미터 값 목록\n",
        "ridge_params = {'max_iter':[0.001,0.1,1,5,10], 'alpha':[0.1, 1, 2, 10, 30, 100, 200, 300]}\n",
        "# 교차 검증용 평가 함수(RMSLE 점수 계산)\n",
        "mse_scorer = metrics.make_scorer(mean_squared_error, greater_is_better=False)\n",
        "# 그리드서치(릿지) 생성\n",
        "gridsearch_ridge_model = GridSearchCV(estimator=ridge_model, param_grid=ridge_params, scoring=mse_scorer, cv=10) # 교차검증 분할 수"
      ],
      "metadata": {
        "id": "u6zBVFc5JKrF"
      },
      "execution_count": 17,
      "outputs": []
    },
    {
      "cell_type": "code",
      "source": [
        "gridsearch_ridge_model.fit(train_x, train_y) # 훈련(그리드서치)"
      ],
      "metadata": {
        "colab": {
          "base_uri": "https://localhost:8080/"
        },
        "id": "6ISotHldJMf3",
        "outputId": "b45b51f8-b103-42c2-9ddd-d40b39ea81fd"
      },
      "execution_count": 18,
      "outputs": [
        {
          "output_type": "execute_result",
          "data": {
            "text/plain": [
              "GridSearchCV(cv=10, estimator=Ridge(),\n",
              "             param_grid={'alpha': [0.1, 1, 2, 10, 30, 100, 200, 300],\n",
              "                         'max_iter': [0.001, 0.1, 1, 5, 10]},\n",
              "             scoring=make_scorer(mean_squared_error, greater_is_better=False))"
            ]
          },
          "metadata": {},
          "execution_count": 18
        }
      ]
    },
    {
      "cell_type": "code",
      "source": [
        "#Ridge 예측\n",
        "pred = gridsearch_ridge_model.best_estimator_.predict(test_x)\n",
        "pred"
      ],
      "metadata": {
        "id": "JYpBzB_WJQ8m",
        "colab": {
          "base_uri": "https://localhost:8080/"
        },
        "outputId": "39cf4600-7d8e-4490-94cd-2297c6e3820c"
      },
      "execution_count": 19,
      "outputs": [
        {
          "output_type": "execute_result",
          "data": {
            "text/plain": [
              "array([47.30609459, 47.43212226, 47.05542849, ..., 45.24843666,\n",
              "       49.93238855, 49.09947891])"
            ]
          },
          "metadata": {},
          "execution_count": 19
        }
      ]
    },
    {
      "cell_type": "code",
      "source": [
        "submit['Feed(L)'] = pred\n",
        "submit"
      ],
      "metadata": {
        "id": "HwfOEY0FL0qE",
        "colab": {
          "base_uri": "https://localhost:8080/",
          "height": 424
        },
        "outputId": "7e07b12f-7eff-42aa-a533-11486b0b29c6"
      },
      "execution_count": 20,
      "outputs": [
        {
          "output_type": "execute_result",
          "data": {
            "text/plain": [
              "         Feed(L)\n",
              "0      47.306095\n",
              "1      47.432122\n",
              "2      47.055428\n",
              "3      47.214412\n",
              "4      47.276580\n",
              "...          ...\n",
              "16637  49.717040\n",
              "16638  49.642638\n",
              "16639  45.248437\n",
              "16640  49.932389\n",
              "16641  49.099479\n",
              "\n",
              "[16642 rows x 1 columns]"
            ],
            "text/html": [
              "\n",
              "  <div id=\"df-1e2d62ef-609e-4401-85ab-7099a1ce3edc\">\n",
              "    <div class=\"colab-df-container\">\n",
              "      <div>\n",
              "<style scoped>\n",
              "    .dataframe tbody tr th:only-of-type {\n",
              "        vertical-align: middle;\n",
              "    }\n",
              "\n",
              "    .dataframe tbody tr th {\n",
              "        vertical-align: top;\n",
              "    }\n",
              "\n",
              "    .dataframe thead th {\n",
              "        text-align: right;\n",
              "    }\n",
              "</style>\n",
              "<table border=\"1\" class=\"dataframe\">\n",
              "  <thead>\n",
              "    <tr style=\"text-align: right;\">\n",
              "      <th></th>\n",
              "      <th>Feed(L)</th>\n",
              "    </tr>\n",
              "  </thead>\n",
              "  <tbody>\n",
              "    <tr>\n",
              "      <th>0</th>\n",
              "      <td>47.306095</td>\n",
              "    </tr>\n",
              "    <tr>\n",
              "      <th>1</th>\n",
              "      <td>47.432122</td>\n",
              "    </tr>\n",
              "    <tr>\n",
              "      <th>2</th>\n",
              "      <td>47.055428</td>\n",
              "    </tr>\n",
              "    <tr>\n",
              "      <th>3</th>\n",
              "      <td>47.214412</td>\n",
              "    </tr>\n",
              "    <tr>\n",
              "      <th>4</th>\n",
              "      <td>47.276580</td>\n",
              "    </tr>\n",
              "    <tr>\n",
              "      <th>...</th>\n",
              "      <td>...</td>\n",
              "    </tr>\n",
              "    <tr>\n",
              "      <th>16637</th>\n",
              "      <td>49.717040</td>\n",
              "    </tr>\n",
              "    <tr>\n",
              "      <th>16638</th>\n",
              "      <td>49.642638</td>\n",
              "    </tr>\n",
              "    <tr>\n",
              "      <th>16639</th>\n",
              "      <td>45.248437</td>\n",
              "    </tr>\n",
              "    <tr>\n",
              "      <th>16640</th>\n",
              "      <td>49.932389</td>\n",
              "    </tr>\n",
              "    <tr>\n",
              "      <th>16641</th>\n",
              "      <td>49.099479</td>\n",
              "    </tr>\n",
              "  </tbody>\n",
              "</table>\n",
              "<p>16642 rows × 1 columns</p>\n",
              "</div>\n",
              "      <button class=\"colab-df-convert\" onclick=\"convertToInteractive('df-1e2d62ef-609e-4401-85ab-7099a1ce3edc')\"\n",
              "              title=\"Convert this dataframe to an interactive table.\"\n",
              "              style=\"display:none;\">\n",
              "        \n",
              "  <svg xmlns=\"http://www.w3.org/2000/svg\" height=\"24px\"viewBox=\"0 0 24 24\"\n",
              "       width=\"24px\">\n",
              "    <path d=\"M0 0h24v24H0V0z\" fill=\"none\"/>\n",
              "    <path d=\"M18.56 5.44l.94 2.06.94-2.06 2.06-.94-2.06-.94-.94-2.06-.94 2.06-2.06.94zm-11 1L8.5 8.5l.94-2.06 2.06-.94-2.06-.94L8.5 2.5l-.94 2.06-2.06.94zm10 10l.94 2.06.94-2.06 2.06-.94-2.06-.94-.94-2.06-.94 2.06-2.06.94z\"/><path d=\"M17.41 7.96l-1.37-1.37c-.4-.4-.92-.59-1.43-.59-.52 0-1.04.2-1.43.59L10.3 9.45l-7.72 7.72c-.78.78-.78 2.05 0 2.83L4 21.41c.39.39.9.59 1.41.59.51 0 1.02-.2 1.41-.59l7.78-7.78 2.81-2.81c.8-.78.8-2.07 0-2.86zM5.41 20L4 18.59l7.72-7.72 1.47 1.35L5.41 20z\"/>\n",
              "  </svg>\n",
              "      </button>\n",
              "      \n",
              "  <style>\n",
              "    .colab-df-container {\n",
              "      display:flex;\n",
              "      flex-wrap:wrap;\n",
              "      gap: 12px;\n",
              "    }\n",
              "\n",
              "    .colab-df-convert {\n",
              "      background-color: #E8F0FE;\n",
              "      border: none;\n",
              "      border-radius: 50%;\n",
              "      cursor: pointer;\n",
              "      display: none;\n",
              "      fill: #1967D2;\n",
              "      height: 32px;\n",
              "      padding: 0 0 0 0;\n",
              "      width: 32px;\n",
              "    }\n",
              "\n",
              "    .colab-df-convert:hover {\n",
              "      background-color: #E2EBFA;\n",
              "      box-shadow: 0px 1px 2px rgba(60, 64, 67, 0.3), 0px 1px 3px 1px rgba(60, 64, 67, 0.15);\n",
              "      fill: #174EA6;\n",
              "    }\n",
              "\n",
              "    [theme=dark] .colab-df-convert {\n",
              "      background-color: #3B4455;\n",
              "      fill: #D2E3FC;\n",
              "    }\n",
              "\n",
              "    [theme=dark] .colab-df-convert:hover {\n",
              "      background-color: #434B5C;\n",
              "      box-shadow: 0px 1px 3px 1px rgba(0, 0, 0, 0.15);\n",
              "      filter: drop-shadow(0px 1px 2px rgba(0, 0, 0, 0.3));\n",
              "      fill: #FFFFFF;\n",
              "    }\n",
              "  </style>\n",
              "\n",
              "      <script>\n",
              "        const buttonEl =\n",
              "          document.querySelector('#df-1e2d62ef-609e-4401-85ab-7099a1ce3edc button.colab-df-convert');\n",
              "        buttonEl.style.display =\n",
              "          google.colab.kernel.accessAllowed ? 'block' : 'none';\n",
              "\n",
              "        async function convertToInteractive(key) {\n",
              "          const element = document.querySelector('#df-1e2d62ef-609e-4401-85ab-7099a1ce3edc');\n",
              "          const dataTable =\n",
              "            await google.colab.kernel.invokeFunction('convertToInteractive',\n",
              "                                                     [key], {});\n",
              "          if (!dataTable) return;\n",
              "\n",
              "          const docLinkHtml = 'Like what you see? Visit the ' +\n",
              "            '<a target=\"_blank\" href=https://colab.research.google.com/notebooks/data_table.ipynb>data table notebook</a>'\n",
              "            + ' to learn more about interactive tables.';\n",
              "          element.innerHTML = '';\n",
              "          dataTable['output_type'] = 'display_data';\n",
              "          await google.colab.output.renderOutput(dataTable, element);\n",
              "          const docLink = document.createElement('div');\n",
              "          docLink.innerHTML = docLinkHtml;\n",
              "          element.appendChild(docLink);\n",
              "        }\n",
              "      </script>\n",
              "    </div>\n",
              "  </div>\n",
              "  "
            ]
          },
          "metadata": {},
          "execution_count": 20
        }
      ]
    },
    {
      "cell_type": "code",
      "source": [
        "RR1 = Ridge(alpha = 0.1)\n",
        "RR2 = Ridge(alpha = 1)\n",
        "RR3 = Ridge(alpha = 10)\n",
        "RR4 = Ridge(alpha = 200)\n",
        "RR1.fit(train_x,train_y)\n",
        "RR2.fit(train_x,train_y)\n",
        "RR3.fit(train_x,train_y)\n",
        "RR4.fit(train_x,train_y)"
      ],
      "metadata": {
        "colab": {
          "base_uri": "https://localhost:8080/"
        },
        "id": "AwS_7ZeMYY82",
        "outputId": "cce847d4-927c-4773-e800-dec0423ed154"
      },
      "execution_count": 21,
      "outputs": [
        {
          "output_type": "execute_result",
          "data": {
            "text/plain": [
              "Ridge(alpha=200)"
            ]
          },
          "metadata": {},
          "execution_count": 21
        }
      ]
    },
    {
      "cell_type": "code",
      "source": [
        "plt.plot(RR1.coef_, \"^\", label = \"alpha = 0.1\")\n",
        "plt.plot(RR2.coef_, \"^\", label = \"alpha = 1\")\n",
        "plt.plot(RR3.coef_, \"o\", label = \"alpha = 10\")\n",
        "plt.plot(RR4.coef_, \"ro\", label = \"alpha = 200\")\n",
        "plt.xlabel(\"coef list\")\n",
        "plt.ylabel(\"coefficient\")\n",
        "plt.hlines(0,0,len(RR1.coef_))\n",
        "plt.ylim(-50,50)\n",
        "plt.legend(loc='upper right', fontsize = 10)\n",
        "plt.show()"
      ],
      "metadata": {
        "colab": {
          "base_uri": "https://localhost:8080/",
          "height": 279
        },
        "id": "wvlX5UaaYWTu",
        "outputId": "bd1e65cf-1dfe-40e7-8716-10871e17605e"
      },
      "execution_count": 22,
      "outputs": [
        {
          "output_type": "display_data",
          "data": {
            "text/plain": [
              "<Figure size 432x288 with 1 Axes>"
            ],
            "image/png": "[encoded data removed]"
          },
          "metadata": {
            "needs_background": "light"
          }
        }
      ]
    },
    {
      "cell_type": "markdown",
      "source": [
        "### RandomForest"
      ],
      "metadata": {
        "id": "e-JaqcdUJ7-3"
      }
    },
    {
      "cell_type": "code",
      "source": [
        "from sklearn.ensemble import RandomForestRegressor\n",
        "from sklearn.model_selection import GridSearchCV\n",
        "from sklearn import metrics\n",
        "\n",
        "rf_model = RandomForestRegressor()\n",
        "\n",
        "\n",
        "#하이퍼파라미터 조정 전,  후 mse값 비교하기\n",
        "rf_params = { 'n_estimators' : [10, 100],\n",
        "           'max_depth' : [6, 8, 10, 12],\n",
        "           'min_samples_leaf' : [8, 12, 18],\n",
        "           'min_samples_split' : [8, 16, 20]\n",
        "            }\n",
        "#rf_params = {'random_state' : [42] , 'n_estimators' : [5, 10 , 50, 100, 150],'max_depth'= [10],'max_depth' : [6, 8, 10, 12],'min_samples_leaf' : [8, 12, 18], 'min_samples_split' : [8, 16, 20]}\n",
        "#n_estimators\n",
        "#- 결정트리의 갯수를 지정\n",
        "#- Default = 10\n",
        "#- 무작정 트리 갯수를 늘리면 성능 좋아지는 것 대비 시간이 걸릴 수 있음\n",
        "\n",
        "#min_samples_split\n",
        "#- - 노드를 분할하기 위한 최소한의 샘플 데이터수\n",
        "#→ 과적합을 제어하는데 사용\n",
        "#- Default = 2 → 작게 설정할 수록 분할 노드가 많아져 과적합 가능성 증가\n",
        "\n",
        "#min_samples_leaf\n",
        "#- 리프노드가 되기 위해 필요한 최소한의 샘플 데이터수\n",
        "#- min_samples_split과 함께 과적합 제어 용도\n",
        "#- 불균형 데이터의 경우 특정 클래스의 데이터가 극도로 작을 수 있으므로 작게 설정 필요\n",
        "\n",
        "#max_features\n",
        "#- 최적의 분할을 위해 고려할 최대 feature 개수\n",
        "#- Default = 'auto' (결정트리에서는 default가 none이었음)\n",
        "#- int형으로 지정 →피처 갯수 / float형으로 지정 →비중\n",
        "#- sqrt 또는 auto : 전체 피처 중 √(피처개수) 만큼 선정\n",
        "#- log : 전체 피처 중 log2(전체 피처 개수) 만큼 선정\n",
        "\n",
        "#max_depth\n",
        "#- 트리의 최대 깊이\n",
        "#- default = None\n",
        "#→ 완벽하게 클래스 값이 결정될 때 까지 분할\n",
        "#또는 데이터 개수가 min_samples_split보다 작아질 때까지 분할\n",
        "#- 깊이가 깊어지면 과적합될 수 있으므로 적절히 제어 필요\n",
        "\n",
        "#max_leaf_nodes\t리프노드의 최대 개수\n",
        "mse_scorer = metrics.make_scorer(mean_squared_error, greater_is_better = False)\n",
        "\n",
        "gridsearch_random_forest_model = GridSearchCV(estimator = rf_model,\\\n",
        "                                              param_grid = rf_params,\\\n",
        "                                              scoring = mse_scorer,\\\n",
        "                                              cv = 5)\n",
        "\n",
        "gridsearch_random_forest_model.fit(train_x, train_y)\n",
        "print(\"최적 하이퍼파라미터 : \", gridsearch_random_forest_model.best_params_)"
      ],
      "metadata": {
        "id": "dS1lVt01H91e"
      },
      "execution_count": null,
      "outputs": []
    },
    {
      "cell_type": "code",
      "source": [
        "pred = gridsearch_random_forest_model.best_estimator_.predict(test_x)"
      ],
      "metadata": {
        "id": "cz-JWwT-Ka4B"
      },
      "execution_count": null,
      "outputs": []
    },
    {
      "cell_type": "code",
      "source": [
        "submit['Feed(L)'] = pred\n",
        "submit"
      ],
      "metadata": {
        "id": "lEHf5YibKcGM"
      },
      "execution_count": null,
      "outputs": []
    },
    {
      "cell_type": "markdown",
      "source": [
        "### Decision Tree"
      ],
      "metadata": {
        "id": "UfYaWOwTKroN"
      }
    },
    {
      "cell_type": "code",
      "source": [
        "dt_model = DecisionTreeRegressor()"
      ],
      "metadata": {
        "id": "RHiVYjpKKusx"
      },
      "execution_count": 23,
      "outputs": []
    },
    {
      "cell_type": "code",
      "source": [
        "dt_params = { \n",
        "           'max_depth' : [6, 8, 10, 12],\n",
        "           'min_samples_leaf' : [8, 12, 18],\n",
        "           'min_samples_split' : [8, 16, 20]\n",
        "            }\n",
        "mse_scorer = metrics.make_scorer(mean_squared_error, greater_is_better = False)\n",
        "\n",
        "gridsearch_DecisionTree_model = GridSearchCV(estimator = dt_model,\\\n",
        "                                              param_grid = dt_params,\\\n",
        "                                              scoring = mse_scorer,\\\n",
        "                                              cv = 5)\n",
        "\n",
        "gridsearch_DecisionTree_model.fit(train_x, train_y)\n",
        "print(\"최적 하이퍼파라미터 : \", gridsearch_DecisionTree_model.best_params_)"
      ],
      "metadata": {
        "colab": {
          "base_uri": "https://localhost:8080/"
        },
        "id": "cmqHCyxXLHb8",
        "outputId": "e716fcc4-b8e0-478d-cdff-c195f0509770"
      },
      "execution_count": 24,
      "outputs": [
        {
          "output_type": "stream",
          "name": "stdout",
          "text": [
            "최적 하이퍼파라미터 :  {'max_depth': 6, 'min_samples_leaf': 18, 'min_samples_split': 16}\n"
          ]
        }
      ]
    },
    {
      "cell_type": "code",
      "source": [
        "pred = gridsearch_DecisionTree_model.predict(test_x)\n",
        "submit['Feed(L)'] = pred\n",
        "submit"
      ],
      "metadata": {
        "colab": {
          "base_uri": "https://localhost:8080/",
          "height": 424
        },
        "id": "w7KpDTZqMTZ7",
        "outputId": "c1e9f914-e60d-445e-d9ab-ef114844d23b"
      },
      "execution_count": 25,
      "outputs": [
        {
          "output_type": "execute_result",
          "data": {
            "text/plain": [
              "         Feed(L)\n",
              "0      53.540237\n",
              "1      53.540237\n",
              "2      53.540237\n",
              "3      53.540237\n",
              "4      53.540237\n",
              "...          ...\n",
              "16637  73.704051\n",
              "16638  73.704051\n",
              "16639  73.704051\n",
              "16640  73.704051\n",
              "16641  73.704051\n",
              "\n",
              "[16642 rows x 1 columns]"
            ],
            "text/html": [
              "\n",
              "  <div id=\"df-ba97b766-c405-448a-8816-72eb18ea3410\">\n",
              "    <div class=\"colab-df-container\">\n",
              "      <div>\n",
              "<style scoped>\n",
              "    .dataframe tbody tr th:only-of-type {\n",
              "        vertical-align: middle;\n",
              "    }\n",
              "\n",
              "    .dataframe tbody tr th {\n",
              "        vertical-align: top;\n",
              "    }\n",
              "\n",
              "    .dataframe thead th {\n",
              "        text-align: right;\n",
              "    }\n",
              "</style>\n",
              "<table border=\"1\" class=\"dataframe\">\n",
              "  <thead>\n",
              "    <tr style=\"text-align: right;\">\n",
              "      <th></th>\n",
              "      <th>Feed(L)</th>\n",
              "    </tr>\n",
              "  </thead>\n",
              "  <tbody>\n",
              "    <tr>\n",
              "      <th>0</th>\n",
              "      <td>53.540237</td>\n",
              "    </tr>\n",
              "    <tr>\n",
              "      <th>1</th>\n",
              "      <td>53.540237</td>\n",
              "    </tr>\n",
              "    <tr>\n",
              "      <th>2</th>\n",
              "      <td>53.540237</td>\n",
              "    </tr>\n",
              "    <tr>\n",
              "      <th>3</th>\n",
              "      <td>53.540237</td>\n",
              "    </tr>\n",
              "    <tr>\n",
              "      <th>4</th>\n",
              "      <td>53.540237</td>\n",
              "    </tr>\n",
              "    <tr>\n",
              "      <th>...</th>\n",
              "      <td>...</td>\n",
              "    </tr>\n",
              "    <tr>\n",
              "      <th>16637</th>\n",
              "      <td>73.704051</td>\n",
              "    </tr>\n",
              "    <tr>\n",
              "      <th>16638</th>\n",
              "      <td>73.704051</td>\n",
              "    </tr>\n",
              "    <tr>\n",
              "      <th>16639</th>\n",
              "      <td>73.704051</td>\n",
              "    </tr>\n",
              "    <tr>\n",
              "      <th>16640</th>\n",
              "      <td>73.704051</td>\n",
              "    </tr>\n",
              "    <tr>\n",
              "      <th>16641</th>\n",
              "      <td>73.704051</td>\n",
              "    </tr>\n",
              "  </tbody>\n",
              "</table>\n",
              "<p>16642 rows × 1 columns</p>\n",
              "</div>\n",
              "      <button class=\"colab-df-convert\" onclick=\"convertToInteractive('df-ba97b766-c405-448a-8816-72eb18ea3410')\"\n",
              "              title=\"Convert this dataframe to an interactive table.\"\n",
              "              style=\"display:none;\">\n",
              "        \n",
              "  <svg xmlns=\"http://www.w3.org/2000/svg\" height=\"24px\"viewBox=\"0 0 24 24\"\n",
              "       width=\"24px\">\n",
              "    <path d=\"M0 0h24v24H0V0z\" fill=\"none\"/>\n",
              "    <path d=\"M18.56 5.44l.94 2.06.94-2.06 2.06-.94-2.06-.94-.94-2.06-.94 2.06-2.06.94zm-11 1L8.5 8.5l.94-2.06 2.06-.94-2.06-.94L8.5 2.5l-.94 2.06-2.06.94zm10 10l.94 2.06.94-2.06 2.06-.94-2.06-.94-.94-2.06-.94 2.06-2.06.94z\"/><path d=\"M17.41 7.96l-1.37-1.37c-.4-.4-.92-.59-1.43-.59-.52 0-1.04.2-1.43.59L10.3 9.45l-7.72 7.72c-.78.78-.78 2.05 0 2.83L4 21.41c.39.39.9.59 1.41.59.51 0 1.02-.2 1.41-.59l7.78-7.78 2.81-2.81c.8-.78.8-2.07 0-2.86zM5.41 20L4 18.59l7.72-7.72 1.47 1.35L5.41 20z\"/>\n",
              "  </svg>\n",
              "      </button>\n",
              "      \n",
              "  <style>\n",
              "    .colab-df-container {\n",
              "      display:flex;\n",
              "      flex-wrap:wrap;\n",
              "      gap: 12px;\n",
              "    }\n",
              "\n",
              "    .colab-df-convert {\n",
              "      background-color: #E8F0FE;\n",
              "      border: none;\n",
              "      border-radius: 50%;\n",
              "      cursor: pointer;\n",
              "      display: none;\n",
              "      fill: #1967D2;\n",
              "      height: 32px;\n",
              "      padding: 0 0 0 0;\n",
              "      width: 32px;\n",
              "    }\n",
              "\n",
              "    .colab-df-convert:hover {\n",
              "      background-color: #E2EBFA;\n",
              "      box-shadow: 0px 1px 2px rgba(60, 64, 67, 0.3), 0px 1px 3px 1px rgba(60, 64, 67, 0.15);\n",
              "      fill: #174EA6;\n",
              "    }\n",
              "\n",
              "    [theme=dark] .colab-df-convert {\n",
              "      background-color: #3B4455;\n",
              "      fill: #D2E3FC;\n",
              "    }\n",
              "\n",
              "    [theme=dark] .colab-df-convert:hover {\n",
              "      background-color: #434B5C;\n",
              "      box-shadow: 0px 1px 3px 1px rgba(0, 0, 0, 0.15);\n",
              "      filter: drop-shadow(0px 1px 2px rgba(0, 0, 0, 0.3));\n",
              "      fill: #FFFFFF;\n",
              "    }\n",
              "  </style>\n",
              "\n",
              "      <script>\n",
              "        const buttonEl =\n",
              "          document.querySelector('#df-ba97b766-c405-448a-8816-72eb18ea3410 button.colab-df-convert');\n",
              "        buttonEl.style.display =\n",
              "          google.colab.kernel.accessAllowed ? 'block' : 'none';\n",
              "\n",
              "        async function convertToInteractive(key) {\n",
              "          const element = document.querySelector('#df-ba97b766-c405-448a-8816-72eb18ea3410');\n",
              "          const dataTable =\n",
              "            await google.colab.kernel.invokeFunction('convertToInteractive',\n",
              "                                                     [key], {});\n",
              "          if (!dataTable) return;\n",
              "\n",
              "          const docLinkHtml = 'Like what you see? Visit the ' +\n",
              "            '<a target=\"_blank\" href=https://colab.research.google.com/notebooks/data_table.ipynb>data table notebook</a>'\n",
              "            + ' to learn more about interactive tables.';\n",
              "          element.innerHTML = '';\n",
              "          dataTable['output_type'] = 'display_data';\n",
              "          await google.colab.output.renderOutput(dataTable, element);\n",
              "          const docLink = document.createElement('div');\n",
              "          docLink.innerHTML = docLinkHtml;\n",
              "          element.appendChild(docLink);\n",
              "        }\n",
              "      </script>\n",
              "    </div>\n",
              "  </div>\n",
              "  "
            ]
          },
          "metadata": {},
          "execution_count": 25
        }
      ]
    },
    {
      "cell_type": "code",
      "source": [
        "dt_model.fit(train_x,train_y)"
      ],
      "metadata": {
        "colab": {
          "base_uri": "https://localhost:8080/"
        },
        "id": "hcyC4rgGTFVM",
        "outputId": "3e3ed5f6-b8f6-415a-9f29-2e46f7e1e673"
      },
      "execution_count": 26,
      "outputs": [
        {
          "output_type": "execute_result",
          "data": {
            "text/plain": [
              "DecisionTreeRegressor()"
            ]
          },
          "metadata": {},
          "execution_count": 26
        }
      ]
    },
    {
      "cell_type": "code",
      "source": [
        "#피쳐임포턴스\n",
        "import matplotlib.pyplot as plt\n",
        "import seaborn as sns\n",
        "%matplotlib inline\n",
        "\n",
        "ftr_importances_values = dt_model.feature_importances_\n",
        "ftr_importances = pd.Series(ftr_importances_values, index = train_x.columns)\n",
        "ftr_top20 = ftr_importances.sort_values(ascending=False)[:20]\n",
        "\n",
        "plt.figure(figsize=(8,6))\n",
        "plt.title('Feature Importances')\n",
        "sns.barplot(x=ftr_top20, y=ftr_top20.index)\n",
        "plt.show()"
      ],
      "metadata": {
        "colab": {
          "base_uri": "https://localhost:8080/",
          "height": 390
        },
        "id": "dce2KHksLHJ6",
        "outputId": "cba0c49d-e81b-4411-bb4d-edc215ed83d1"
      },
      "execution_count": 27,
      "outputs": [
        {
          "output_type": "display_data",
          "data": {
            "text/plain": [
              "<Figure size 576x432 with 1 Axes>"
            ],
            "image/png": "[encoded data removed]"
          },
          "metadata": {
            "needs_background": "light"
          }
        }
      ]
    },
    {
      "cell_type": "markdown",
      "source": [
        "# 문제2(TanK NO 예측) 분류"
      ],
      "metadata": {
        "id": "oFZuABKgTOa0"
      }
    },
    {
      "cell_type": "code",
      "source": [
        "#train, test셋 분리\n",
        "train_x = Final.drop(['Tank NO', 'ID CODE'], axis = 1)\n",
        "train_y = Final['Tank NO']\n",
        "test_x = Final_T.drop(['Tank NO', 'ID CODE'], axis = 1)\n",
        "submit = Final_T.drop(['Tank NO', 'ID CODE','Length(um)', 'Height(um)', 'Weight(ug)', 'Plakton', 'Tank NO'], axis = 1)\n",
        "submit['Tank NO'] = 0"
      ],
      "metadata": {
        "id": "CL6udjv0TLdf"
      },
      "execution_count": 28,
      "outputs": []
    },
    {
      "cell_type": "markdown",
      "source": [
        "### Cross Validation"
      ],
      "metadata": {
        "id": "X7wTiBKxTo0B"
      }
    },
    {
      "cell_type": "code",
      "source": [
        "#Validation Set (Split)\n",
        "from sklearn.model_selection import train_test_split\n",
        "from sklearn.model_selection import KFold\n",
        "from sklearn.tree import DecisionTreeClassifier \n",
        "from sklearn.ensemble import RandomForestClassifier\n",
        "from sklearn.neighbors import KNeighborsClassifier\n",
        "from sklearn.linear_model import SGDClassifier\n",
        "from sklearn.metrics import accuracy_score\n",
        "from sklearn import svm\n",
        "import numpy as np\n",
        "\n",
        "kf = KFold(n_splits=5, shuffle = True) # True로 하고 안하고 차이가 너무 심한데?\n",
        "cv_Accuracy = [] \n",
        "n_iter = 0\n",
        "\n",
        "dt_model = DecisionTreeClassifier()\n",
        "rf_model = RandomForestClassifier()\n",
        "knn_model = KNeighborsClassifier()\n",
        "sgd_model = SGDClassifier()\n",
        "#svm_model = svm.SVC()\n",
        "for train_idx, test_idx in kf.split(train_x,train_y) :\n",
        "    X_train , X_test = train_x.iloc[train_idx] , train_x.iloc[test_idx]\n",
        "    y_train , y_test = train_y.iloc[train_idx] , train_y.iloc[test_idx]\n",
        "\n",
        "    # 학습을 진행하겠다면?\n",
        "    dt_model.fit(X_train , y_train)\n",
        "    # 예측\n",
        "    fold_pred = dt_model.predict(X_test)\n",
        "    \n",
        "    # 정확도 측정\n",
        "    n_iter += 1\n",
        "    Accuracy = np.round(accuracy_score(y_test , fold_pred) , 4) \n",
        "    print('\\n{} SGD Accuracy : {} , training_size : {} , validation_size : {}'.format(n_iter, Accuracy, X_train.shape[0] , X_test.shape[0]))\n",
        "    cv_Accuracy.append(Accuracy)\n",
        "print('\\n')\n",
        "\n",
        "print('\\n 평균검증 정확도 :  ' , np.mean(cv_Accuracy))"
      ],
      "metadata": {
        "colab": {
          "base_uri": "https://localhost:8080/"
        },
        "id": "vEcYAmjJTlGz",
        "outputId": "a28bfb41-4262-492a-f445-0d3e9fdfbd10"
      },
      "execution_count": 30,
      "outputs": [
        {
          "output_type": "stream",
          "name": "stdout",
          "text": [
            "\n",
            "1 SGD Accuracy : 0.5235 , training_size : 336439 , validation_size : 84110\n",
            "\n",
            "2 SGD Accuracy : 0.5217 , training_size : 336439 , validation_size : 84110\n",
            "\n",
            "3 SGD Accuracy : 0.525 , training_size : 336439 , validation_size : 84110\n",
            "\n",
            "4 SGD Accuracy : 0.5229 , training_size : 336439 , validation_size : 84110\n",
            "\n",
            "5 SGD Accuracy : 0.5195 , training_size : 336440 , validation_size : 84109\n",
            "\n",
            "\n",
            "\n",
            " 평균검증 정확도 :   0.5225199999999999\n"
          ]
        }
      ]
    },
    {
      "cell_type": "markdown",
      "source": [
        "### RandomForest"
      ],
      "metadata": {
        "id": "LtONgRlXVUWG"
      }
    },
    {
      "cell_type": "code",
      "source": [
        "from sklearn.model_selection import GridSearchCV\n",
        "\n",
        "\n",
        "rf_model = RandomForestClassifier()\n",
        "\n",
        "rf_params = { 'n_estimators' : [10, 100],\n",
        "           'max_depth' : [6, 8, 10, 12],\n",
        "           'min_samples_leaf' : [8, 12, 18],\n",
        "           'min_samples_split' : [8, 16, 20]\n",
        "            }\n",
        "\n",
        "mse_scorer = metrics.make_scorer(mean_squared_error, greater_is_better = False)\n",
        "\n",
        "gridsearch_random_forest_model = GridSearchCV(estimator = rf_model,\\\n",
        "                                              param_grid = rf_params,\\\n",
        "                                              scoring = mse_scorer,\\\n",
        "                                              cv = 5)\n",
        "\n",
        "gridsearch_random_forest_model.fit(train_x, train_y)\n",
        "print(\"최적 하이퍼파라미터 : \", gridsearch_random_forest_model.best_params_)"
      ],
      "metadata": {
        "id": "2Z6AOuxtT41g"
      },
      "execution_count": null,
      "outputs": []
    },
    {
      "cell_type": "code",
      "source": [
        "pred = gridsearch_random_forest_model.best_estimator_.predict(test_x)\n",
        "submit['Tank NO'] = pred\n",
        "submit"
      ],
      "metadata": {
        "id": "JVfXYQ5SVMFt"
      },
      "execution_count": null,
      "outputs": []
    },
    {
      "cell_type": "markdown",
      "source": [
        "### Decision Tree"
      ],
      "metadata": {
        "id": "_nIG03SVVRvc"
      }
    },
    {
      "cell_type": "code",
      "source": [
        "dt_params = { \n",
        "           'max_depth' : [6, 8, 10, 12],\n",
        "           'min_samples_leaf' : [8, 12, 18],\n",
        "           'min_samples_split' : [8, 16, 20]\n",
        "            }\n",
        "mse_scorer = metrics.make_scorer(mean_squared_error, greater_is_better = False)\n",
        "\n",
        "gridsearch_DecisionTree_model = GridSearchCV(estimator = dt_model,\\\n",
        "                                              param_grid = dt_params,\\\n",
        "                                              scoring = mse_scorer,\\\n",
        "                                              cv = 5)\n",
        "\n",
        "gridsearch_DecisionTree_model.fit(train_x, train_y)\n",
        "print(\"최적 하이퍼파라미터 : \", gridsearch_DecisionTree_model.best_params_)"
      ],
      "metadata": {
        "id": "Xy5pn0-BVYpU",
        "colab": {
          "base_uri": "https://localhost:8080/"
        },
        "outputId": "88db6cda-b0d8-421b-d945-1b9686f2391f"
      },
      "execution_count": 31,
      "outputs": [
        {
          "output_type": "stream",
          "name": "stdout",
          "text": [
            "최적 하이퍼파라미터 :  {'max_depth': 12, 'min_samples_leaf': 18, 'min_samples_split': 16}\n"
          ]
        }
      ]
    },
    {
      "cell_type": "code",
      "source": [
        "pred = gridsearch_DecisionTree_model.predict(test_x)\n",
        "submit['Tank NO'] = pred\n",
        "submit"
      ],
      "metadata": {
        "id": "u672S06bVZSF",
        "colab": {
          "base_uri": "https://localhost:8080/",
          "height": 424
        },
        "outputId": "415e9ef2-8578-44e3-bbd8-f68e006f08ad"
      },
      "execution_count": 32,
      "outputs": [
        {
          "output_type": "execute_result",
          "data": {
            "text/plain": [
              "       Feed(L)  Tank NO\n",
              "0         80.0        8\n",
              "1         80.0        8\n",
              "2         80.0        8\n",
              "3         80.0        8\n",
              "4         80.0        8\n",
              "...        ...      ...\n",
              "16637     50.0        5\n",
              "16638     50.0        5\n",
              "16639     50.0        7\n",
              "16640     50.0        5\n",
              "16641     50.0        7\n",
              "\n",
              "[16642 rows x 2 columns]"
            ],
            "text/html": [
              "\n",
              "  <div id=\"df-d860f7d1-bcc1-4052-ba63-1ea0d9b82431\">\n",
              "    <div class=\"colab-df-container\">\n",
              "      <div>\n",
              "<style scoped>\n",
              "    .dataframe tbody tr th:only-of-type {\n",
              "        vertical-align: middle;\n",
              "    }\n",
              "\n",
              "    .dataframe tbody tr th {\n",
              "        vertical-align: top;\n",
              "    }\n",
              "\n",
              "    .dataframe thead th {\n",
              "        text-align: right;\n",
              "    }\n",
              "</style>\n",
              "<table border=\"1\" class=\"dataframe\">\n",
              "  <thead>\n",
              "    <tr style=\"text-align: right;\">\n",
              "      <th></th>\n",
              "      <th>Feed(L)</th>\n",
              "      <th>Tank NO</th>\n",
              "    </tr>\n",
              "  </thead>\n",
              "  <tbody>\n",
              "    <tr>\n",
              "      <th>0</th>\n",
              "      <td>80.0</td>\n",
              "      <td>8</td>\n",
              "    </tr>\n",
              "    <tr>\n",
              "      <th>1</th>\n",
              "      <td>80.0</td>\n",
              "      <td>8</td>\n",
              "    </tr>\n",
              "    <tr>\n",
              "      <th>2</th>\n",
              "      <td>80.0</td>\n",
              "      <td>8</td>\n",
              "    </tr>\n",
              "    <tr>\n",
              "      <th>3</th>\n",
              "      <td>80.0</td>\n",
              "      <td>8</td>\n",
              "    </tr>\n",
              "    <tr>\n",
              "      <th>4</th>\n",
              "      <td>80.0</td>\n",
              "      <td>8</td>\n",
              "    </tr>\n",
              "    <tr>\n",
              "      <th>...</th>\n",
              "      <td>...</td>\n",
              "      <td>...</td>\n",
              "    </tr>\n",
              "    <tr>\n",
              "      <th>16637</th>\n",
              "      <td>50.0</td>\n",
              "      <td>5</td>\n",
              "    </tr>\n",
              "    <tr>\n",
              "      <th>16638</th>\n",
              "      <td>50.0</td>\n",
              "      <td>5</td>\n",
              "    </tr>\n",
              "    <tr>\n",
              "      <th>16639</th>\n",
              "      <td>50.0</td>\n",
              "      <td>7</td>\n",
              "    </tr>\n",
              "    <tr>\n",
              "      <th>16640</th>\n",
              "      <td>50.0</td>\n",
              "      <td>5</td>\n",
              "    </tr>\n",
              "    <tr>\n",
              "      <th>16641</th>\n",
              "      <td>50.0</td>\n",
              "      <td>7</td>\n",
              "    </tr>\n",
              "  </tbody>\n",
              "</table>\n",
              "<p>16642 rows × 2 columns</p>\n",
              "</div>\n",
              "      <button class=\"colab-df-convert\" onclick=\"convertToInteractive('df-d860f7d1-bcc1-4052-ba63-1ea0d9b82431')\"\n",
              "              title=\"Convert this dataframe to an interactive table.\"\n",
              "              style=\"display:none;\">\n",
              "        \n",
              "  <svg xmlns=\"http://www.w3.org/2000/svg\" height=\"24px\"viewBox=\"0 0 24 24\"\n",
              "       width=\"24px\">\n",
              "    <path d=\"M0 0h24v24H0V0z\" fill=\"none\"/>\n",
              "    <path d=\"M18.56 5.44l.94 2.06.94-2.06 2.06-.94-2.06-.94-.94-2.06-.94 2.06-2.06.94zm-11 1L8.5 8.5l.94-2.06 2.06-.94-2.06-.94L8.5 2.5l-.94 2.06-2.06.94zm10 10l.94 2.06.94-2.06 2.06-.94-2.06-.94-.94-2.06-.94 2.06-2.06.94z\"/><path d=\"M17.41 7.96l-1.37-1.37c-.4-.4-.92-.59-1.43-.59-.52 0-1.04.2-1.43.59L10.3 9.45l-7.72 7.72c-.78.78-.78 2.05 0 2.83L4 21.41c.39.39.9.59 1.41.59.51 0 1.02-.2 1.41-.59l7.78-7.78 2.81-2.81c.8-.78.8-2.07 0-2.86zM5.41 20L4 18.59l7.72-7.72 1.47 1.35L5.41 20z\"/>\n",
              "  </svg>\n",
              "      </button>\n",
              "      \n",
              "  <style>\n",
              "    .colab-df-container {\n",
              "      display:flex;\n",
              "      flex-wrap:wrap;\n",
              "      gap: 12px;\n",
              "    }\n",
              "\n",
              "    .colab-df-convert {\n",
              "      background-color: #E8F0FE;\n",
              "      border: none;\n",
              "      border-radius: 50%;\n",
              "      cursor: pointer;\n",
              "      display: none;\n",
              "      fill: #1967D2;\n",
              "      height: 32px;\n",
              "      padding: 0 0 0 0;\n",
              "      width: 32px;\n",
              "    }\n",
              "\n",
              "    .colab-df-convert:hover {\n",
              "      background-color: #E2EBFA;\n",
              "      box-shadow: 0px 1px 2px rgba(60, 64, 67, 0.3), 0px 1px 3px 1px rgba(60, 64, 67, 0.15);\n",
              "      fill: #174EA6;\n",
              "    }\n",
              "\n",
              "    [theme=dark] .colab-df-convert {\n",
              "      background-color: #3B4455;\n",
              "      fill: #D2E3FC;\n",
              "    }\n",
              "\n",
              "    [theme=dark] .colab-df-convert:hover {\n",
              "      background-color: #434B5C;\n",
              "      box-shadow: 0px 1px 3px 1px rgba(0, 0, 0, 0.15);\n",
              "      filter: drop-shadow(0px 1px 2px rgba(0, 0, 0, 0.3));\n",
              "      fill: #FFFFFF;\n",
              "    }\n",
              "  </style>\n",
              "\n",
              "      <script>\n",
              "        const buttonEl =\n",
              "          document.querySelector('#df-d860f7d1-bcc1-4052-ba63-1ea0d9b82431 button.colab-df-convert');\n",
              "        buttonEl.style.display =\n",
              "          google.colab.kernel.accessAllowed ? 'block' : 'none';\n",
              "\n",
              "        async function convertToInteractive(key) {\n",
              "          const element = document.querySelector('#df-d860f7d1-bcc1-4052-ba63-1ea0d9b82431');\n",
              "          const dataTable =\n",
              "            await google.colab.kernel.invokeFunction('convertToInteractive',\n",
              "                                                     [key], {});\n",
              "          if (!dataTable) return;\n",
              "\n",
              "          const docLinkHtml = 'Like what you see? Visit the ' +\n",
              "            '<a target=\"_blank\" href=https://colab.research.google.com/notebooks/data_table.ipynb>data table notebook</a>'\n",
              "            + ' to learn more about interactive tables.';\n",
              "          element.innerHTML = '';\n",
              "          dataTable['output_type'] = 'display_data';\n",
              "          await google.colab.output.renderOutput(dataTable, element);\n",
              "          const docLink = document.createElement('div');\n",
              "          docLink.innerHTML = docLinkHtml;\n",
              "          element.appendChild(docLink);\n",
              "        }\n",
              "      </script>\n",
              "    </div>\n",
              "  </div>\n",
              "  "
            ]
          },
          "metadata": {},
          "execution_count": 32
        }
      ]
    },
    {
      "cell_type": "code",
      "source": [
        "dt_model.fit(train_x,train_y)"
      ],
      "metadata": {
        "id": "dgqnQIbAVbnX",
        "colab": {
          "base_uri": "https://localhost:8080/"
        },
        "outputId": "8e2abe2f-ce86-4847-db33-3a05528848ad"
      },
      "execution_count": 33,
      "outputs": [
        {
          "output_type": "execute_result",
          "data": {
            "text/plain": [
              "DecisionTreeClassifier()"
            ]
          },
          "metadata": {},
          "execution_count": 33
        }
      ]
    },
    {
      "cell_type": "code",
      "source": [
        "#피쳐임포턴스\n",
        "import matplotlib.pyplot as plt\n",
        "import seaborn as sns\n",
        "%matplotlib inline\n",
        "\n",
        "ftr_importances_values = dt_model.feature_importances_\n",
        "ftr_importances = pd.Series(ftr_importances_values, index = train_x.columns)\n",
        "ftr_top20 = ftr_importances.sort_values(ascending=False)[:20]\n",
        "\n",
        "plt.figure(figsize=(8,6))\n",
        "plt.title('Feature Importances')\n",
        "sns.barplot(x=ftr_top20, y=ftr_top20.index)\n",
        "plt.show()"
      ],
      "metadata": {
        "id": "GJRGvWjaVc8v",
        "colab": {
          "base_uri": "https://localhost:8080/",
          "height": 390
        },
        "outputId": "db1abcfe-46ea-4ede-e4fd-ede44fc9266e"
      },
      "execution_count": 34,
      "outputs": [
        {
          "output_type": "display_data",
          "data": {
            "text/plain": [
              "<Figure size 576x432 with 1 Axes>"
            ],
            "image/png": "[encoded data removed]"
          },
          "metadata": {
            "needs_background": "light"
          }
        }
      ]
    }
  ]
}